{
 "cells": [
  {
   "cell_type": "markdown",
   "id": "dfe38dcc",
   "metadata": {},
   "source": [
    "# Stroke Prediction"
   ]
  },
  {
   "cell_type": "code",
   "execution_count": 2,
   "id": "f8f9fea4",
   "metadata": {},
   "outputs": [],
   "source": [
    "import numpy as np              # Одномерные и многомерные массивы (array)\n",
    "import pandas as pd             # Таблицы и временные ряды (dataframe, series)\n",
    "import matplotlib.pyplot as plt # Научная графика\n",
    "import seaborn as sns           # Научная графика\n",
    "import sklearn                  # Алгоритмы машинного обучения\n",
    "import warnings\n",
    "warnings.filterwarnings(\"ignore\")"
   ]
  },
  {
   "cell_type": "markdown",
   "id": "e2f1dfa9",
   "metadata": {},
   "source": [
    "# Загрузим данные "
   ]
  },
  {
   "cell_type": "code",
   "execution_count": 3,
   "id": "0d16e283",
   "metadata": {},
   "outputs": [
    {
     "data": {
      "text/html": [
       "<div>\n",
       "<style scoped>\n",
       "    .dataframe tbody tr th:only-of-type {\n",
       "        vertical-align: middle;\n",
       "    }\n",
       "\n",
       "    .dataframe tbody tr th {\n",
       "        vertical-align: top;\n",
       "    }\n",
       "\n",
       "    .dataframe thead th {\n",
       "        text-align: right;\n",
       "    }\n",
       "</style>\n",
       "<table border=\"1\" class=\"dataframe\">\n",
       "  <thead>\n",
       "    <tr style=\"text-align: right;\">\n",
       "      <th></th>\n",
       "      <th>id</th>\n",
       "      <th>gender</th>\n",
       "      <th>age</th>\n",
       "      <th>hypertension</th>\n",
       "      <th>heart_disease</th>\n",
       "      <th>ever_married</th>\n",
       "      <th>work_type</th>\n",
       "      <th>Residence_type</th>\n",
       "      <th>avg_glucose_level</th>\n",
       "      <th>bmi</th>\n",
       "      <th>smoking_status</th>\n",
       "      <th>stroke</th>\n",
       "    </tr>\n",
       "  </thead>\n",
       "  <tbody>\n",
       "    <tr>\n",
       "      <th>0</th>\n",
       "      <td>9046</td>\n",
       "      <td>Male</td>\n",
       "      <td>67.0</td>\n",
       "      <td>0</td>\n",
       "      <td>1</td>\n",
       "      <td>Yes</td>\n",
       "      <td>Private</td>\n",
       "      <td>Urban</td>\n",
       "      <td>228.69</td>\n",
       "      <td>36.6</td>\n",
       "      <td>formerly smoked</td>\n",
       "      <td>1</td>\n",
       "    </tr>\n",
       "    <tr>\n",
       "      <th>1</th>\n",
       "      <td>51676</td>\n",
       "      <td>Female</td>\n",
       "      <td>61.0</td>\n",
       "      <td>0</td>\n",
       "      <td>0</td>\n",
       "      <td>Yes</td>\n",
       "      <td>Self-employed</td>\n",
       "      <td>Rural</td>\n",
       "      <td>202.21</td>\n",
       "      <td>NaN</td>\n",
       "      <td>never smoked</td>\n",
       "      <td>1</td>\n",
       "    </tr>\n",
       "    <tr>\n",
       "      <th>2</th>\n",
       "      <td>31112</td>\n",
       "      <td>Male</td>\n",
       "      <td>80.0</td>\n",
       "      <td>0</td>\n",
       "      <td>1</td>\n",
       "      <td>Yes</td>\n",
       "      <td>Private</td>\n",
       "      <td>Rural</td>\n",
       "      <td>105.92</td>\n",
       "      <td>32.5</td>\n",
       "      <td>never smoked</td>\n",
       "      <td>1</td>\n",
       "    </tr>\n",
       "    <tr>\n",
       "      <th>3</th>\n",
       "      <td>60182</td>\n",
       "      <td>Female</td>\n",
       "      <td>49.0</td>\n",
       "      <td>0</td>\n",
       "      <td>0</td>\n",
       "      <td>Yes</td>\n",
       "      <td>Private</td>\n",
       "      <td>Urban</td>\n",
       "      <td>171.23</td>\n",
       "      <td>34.4</td>\n",
       "      <td>smokes</td>\n",
       "      <td>1</td>\n",
       "    </tr>\n",
       "    <tr>\n",
       "      <th>4</th>\n",
       "      <td>1665</td>\n",
       "      <td>Female</td>\n",
       "      <td>79.0</td>\n",
       "      <td>1</td>\n",
       "      <td>0</td>\n",
       "      <td>Yes</td>\n",
       "      <td>Self-employed</td>\n",
       "      <td>Rural</td>\n",
       "      <td>174.12</td>\n",
       "      <td>24.0</td>\n",
       "      <td>never smoked</td>\n",
       "      <td>1</td>\n",
       "    </tr>\n",
       "    <tr>\n",
       "      <th>...</th>\n",
       "      <td>...</td>\n",
       "      <td>...</td>\n",
       "      <td>...</td>\n",
       "      <td>...</td>\n",
       "      <td>...</td>\n",
       "      <td>...</td>\n",
       "      <td>...</td>\n",
       "      <td>...</td>\n",
       "      <td>...</td>\n",
       "      <td>...</td>\n",
       "      <td>...</td>\n",
       "      <td>...</td>\n",
       "    </tr>\n",
       "    <tr>\n",
       "      <th>5105</th>\n",
       "      <td>18234</td>\n",
       "      <td>Female</td>\n",
       "      <td>80.0</td>\n",
       "      <td>1</td>\n",
       "      <td>0</td>\n",
       "      <td>Yes</td>\n",
       "      <td>Private</td>\n",
       "      <td>Urban</td>\n",
       "      <td>83.75</td>\n",
       "      <td>NaN</td>\n",
       "      <td>never smoked</td>\n",
       "      <td>0</td>\n",
       "    </tr>\n",
       "    <tr>\n",
       "      <th>5106</th>\n",
       "      <td>44873</td>\n",
       "      <td>Female</td>\n",
       "      <td>81.0</td>\n",
       "      <td>0</td>\n",
       "      <td>0</td>\n",
       "      <td>Yes</td>\n",
       "      <td>Self-employed</td>\n",
       "      <td>Urban</td>\n",
       "      <td>125.20</td>\n",
       "      <td>40.0</td>\n",
       "      <td>never smoked</td>\n",
       "      <td>0</td>\n",
       "    </tr>\n",
       "    <tr>\n",
       "      <th>5107</th>\n",
       "      <td>19723</td>\n",
       "      <td>Female</td>\n",
       "      <td>35.0</td>\n",
       "      <td>0</td>\n",
       "      <td>0</td>\n",
       "      <td>Yes</td>\n",
       "      <td>Self-employed</td>\n",
       "      <td>Rural</td>\n",
       "      <td>82.99</td>\n",
       "      <td>30.6</td>\n",
       "      <td>never smoked</td>\n",
       "      <td>0</td>\n",
       "    </tr>\n",
       "    <tr>\n",
       "      <th>5108</th>\n",
       "      <td>37544</td>\n",
       "      <td>Male</td>\n",
       "      <td>51.0</td>\n",
       "      <td>0</td>\n",
       "      <td>0</td>\n",
       "      <td>Yes</td>\n",
       "      <td>Private</td>\n",
       "      <td>Rural</td>\n",
       "      <td>166.29</td>\n",
       "      <td>25.6</td>\n",
       "      <td>formerly smoked</td>\n",
       "      <td>0</td>\n",
       "    </tr>\n",
       "    <tr>\n",
       "      <th>5109</th>\n",
       "      <td>44679</td>\n",
       "      <td>Female</td>\n",
       "      <td>44.0</td>\n",
       "      <td>0</td>\n",
       "      <td>0</td>\n",
       "      <td>Yes</td>\n",
       "      <td>Govt_job</td>\n",
       "      <td>Urban</td>\n",
       "      <td>85.28</td>\n",
       "      <td>26.2</td>\n",
       "      <td>Unknown</td>\n",
       "      <td>0</td>\n",
       "    </tr>\n",
       "  </tbody>\n",
       "</table>\n",
       "<p>5110 rows × 12 columns</p>\n",
       "</div>"
      ],
      "text/plain": [
       "         id  gender   age  hypertension  heart_disease ever_married  \\\n",
       "0      9046    Male  67.0             0              1          Yes   \n",
       "1     51676  Female  61.0             0              0          Yes   \n",
       "2     31112    Male  80.0             0              1          Yes   \n",
       "3     60182  Female  49.0             0              0          Yes   \n",
       "4      1665  Female  79.0             1              0          Yes   \n",
       "...     ...     ...   ...           ...            ...          ...   \n",
       "5105  18234  Female  80.0             1              0          Yes   \n",
       "5106  44873  Female  81.0             0              0          Yes   \n",
       "5107  19723  Female  35.0             0              0          Yes   \n",
       "5108  37544    Male  51.0             0              0          Yes   \n",
       "5109  44679  Female  44.0             0              0          Yes   \n",
       "\n",
       "          work_type Residence_type  avg_glucose_level   bmi   smoking_status  \\\n",
       "0           Private          Urban             228.69  36.6  formerly smoked   \n",
       "1     Self-employed          Rural             202.21   NaN     never smoked   \n",
       "2           Private          Rural             105.92  32.5     never smoked   \n",
       "3           Private          Urban             171.23  34.4           smokes   \n",
       "4     Self-employed          Rural             174.12  24.0     never smoked   \n",
       "...             ...            ...                ...   ...              ...   \n",
       "5105        Private          Urban              83.75   NaN     never smoked   \n",
       "5106  Self-employed          Urban             125.20  40.0     never smoked   \n",
       "5107  Self-employed          Rural              82.99  30.6     never smoked   \n",
       "5108        Private          Rural             166.29  25.6  formerly smoked   \n",
       "5109       Govt_job          Urban              85.28  26.2          Unknown   \n",
       "\n",
       "      stroke  \n",
       "0          1  \n",
       "1          1  \n",
       "2          1  \n",
       "3          1  \n",
       "4          1  \n",
       "...      ...  \n",
       "5105       0  \n",
       "5106       0  \n",
       "5107       0  \n",
       "5108       0  \n",
       "5109       0  \n",
       "\n",
       "[5110 rows x 12 columns]"
      ]
     },
     "execution_count": 3,
     "metadata": {},
     "output_type": "execute_result"
    }
   ],
   "source": [
    "data = pd.read_csv('./healthcare-dataset-stroke-data.csv')\n",
    "data"
   ]
  },
  {
   "cell_type": "markdown",
   "id": "b7e8aa44",
   "metadata": {},
   "source": [
    "# Описание данных\n",
    "\n",
    "По данным Всемирной организации здравоохранения (ВОЗ), инсульт является второй по величине причиной смертности в мире, на него приходится около 11 % от общего числа смертей. \n",
    "Этот набор данных используется для прогнозирования вероятности инсульта у пациента на основе таких входных параметров, как пол, возраст, различные заболевания и курение. Каждая строка в данных предоставляет релевантную информацию о пациенте.\n",
    "\n",
    "`id` идентификатор (int64)\n",
    "\n",
    "`gender` пол (\"Male\", \"Female\" или \"Other\") (object)\n",
    "\n",
    "`age` возраст пациента (float64)\n",
    "\n",
    "`hypertension` наличие гипертонии у пациента (0 - нет, 1 - есть) (int64)\n",
    "\n",
    "`heart_disease` наличие сердечных заболеваний (0 - нет, 1 - есть) (int64)\n",
    "\n",
    "`ever_married` женат/замужем (\"No\" или \"Yes\") (object)\n",
    "\n",
    "`work_type` род занятий (\"children\", \"Govt_jov\", \"Never_worked\", \"Private\" или \"Self-employed\") (object)\n",
    "\n",
    "`Residence_type` место проживания (\"Rural\" или \"Urban\") (object)\n",
    "\n",
    "`avg_glucose_level` средний уровень глюкозы в крови (float64)\n",
    "\n",
    "`bmi` индекс массы тела (float64)\n",
    "\n",
    "`smoking_status` курение (\"formerly smoked\", \"never smoked\", \"smokes\" или \"Unknown\") (object)\n",
    "\n",
    "`stroke` инсульт (0 не было инстульта, 1 был инсульт) (int64)"
   ]
  },
  {
   "cell_type": "code",
   "execution_count": 4,
   "id": "b3a32ed9",
   "metadata": {},
   "outputs": [
    {
     "name": "stdout",
     "output_type": "stream",
     "text": [
      "<class 'pandas.core.frame.DataFrame'>\n",
      "RangeIndex: 5110 entries, 0 to 5109\n",
      "Data columns (total 12 columns):\n",
      " #   Column             Non-Null Count  Dtype  \n",
      "---  ------             --------------  -----  \n",
      " 0   id                 5110 non-null   int64  \n",
      " 1   gender             5110 non-null   object \n",
      " 2   age                5110 non-null   float64\n",
      " 3   hypertension       5110 non-null   int64  \n",
      " 4   heart_disease      5110 non-null   int64  \n",
      " 5   ever_married       5110 non-null   object \n",
      " 6   work_type          5110 non-null   object \n",
      " 7   Residence_type     5110 non-null   object \n",
      " 8   avg_glucose_level  5110 non-null   float64\n",
      " 9   bmi                4909 non-null   float64\n",
      " 10  smoking_status     5110 non-null   object \n",
      " 11  stroke             5110 non-null   int64  \n",
      "dtypes: float64(3), int64(4), object(5)\n",
      "memory usage: 479.2+ KB\n"
     ]
    }
   ],
   "source": [
    "data.info()"
   ]
  },
  {
   "cell_type": "code",
   "execution_count": 5,
   "id": "5a82caca",
   "metadata": {
    "scrolled": true
   },
   "outputs": [
    {
     "data": {
      "text/html": [
       "<div>\n",
       "<style scoped>\n",
       "    .dataframe tbody tr th:only-of-type {\n",
       "        vertical-align: middle;\n",
       "    }\n",
       "\n",
       "    .dataframe tbody tr th {\n",
       "        vertical-align: top;\n",
       "    }\n",
       "\n",
       "    .dataframe thead th {\n",
       "        text-align: right;\n",
       "    }\n",
       "</style>\n",
       "<table border=\"1\" class=\"dataframe\">\n",
       "  <thead>\n",
       "    <tr style=\"text-align: right;\">\n",
       "      <th></th>\n",
       "      <th>id</th>\n",
       "      <th>age</th>\n",
       "      <th>hypertension</th>\n",
       "      <th>heart_disease</th>\n",
       "      <th>avg_glucose_level</th>\n",
       "      <th>bmi</th>\n",
       "      <th>stroke</th>\n",
       "    </tr>\n",
       "  </thead>\n",
       "  <tbody>\n",
       "    <tr>\n",
       "      <th>count</th>\n",
       "      <td>5110.000000</td>\n",
       "      <td>5110.000000</td>\n",
       "      <td>5110.000000</td>\n",
       "      <td>5110.000000</td>\n",
       "      <td>5110.000000</td>\n",
       "      <td>4909.000000</td>\n",
       "      <td>5110.000000</td>\n",
       "    </tr>\n",
       "    <tr>\n",
       "      <th>mean</th>\n",
       "      <td>36517.829354</td>\n",
       "      <td>43.226614</td>\n",
       "      <td>0.097456</td>\n",
       "      <td>0.054012</td>\n",
       "      <td>106.147677</td>\n",
       "      <td>28.893237</td>\n",
       "      <td>0.048728</td>\n",
       "    </tr>\n",
       "    <tr>\n",
       "      <th>std</th>\n",
       "      <td>21161.721625</td>\n",
       "      <td>22.612647</td>\n",
       "      <td>0.296607</td>\n",
       "      <td>0.226063</td>\n",
       "      <td>45.283560</td>\n",
       "      <td>7.854067</td>\n",
       "      <td>0.215320</td>\n",
       "    </tr>\n",
       "    <tr>\n",
       "      <th>min</th>\n",
       "      <td>67.000000</td>\n",
       "      <td>0.080000</td>\n",
       "      <td>0.000000</td>\n",
       "      <td>0.000000</td>\n",
       "      <td>55.120000</td>\n",
       "      <td>10.300000</td>\n",
       "      <td>0.000000</td>\n",
       "    </tr>\n",
       "    <tr>\n",
       "      <th>25%</th>\n",
       "      <td>17741.250000</td>\n",
       "      <td>25.000000</td>\n",
       "      <td>0.000000</td>\n",
       "      <td>0.000000</td>\n",
       "      <td>77.245000</td>\n",
       "      <td>23.500000</td>\n",
       "      <td>0.000000</td>\n",
       "    </tr>\n",
       "    <tr>\n",
       "      <th>50%</th>\n",
       "      <td>36932.000000</td>\n",
       "      <td>45.000000</td>\n",
       "      <td>0.000000</td>\n",
       "      <td>0.000000</td>\n",
       "      <td>91.885000</td>\n",
       "      <td>28.100000</td>\n",
       "      <td>0.000000</td>\n",
       "    </tr>\n",
       "    <tr>\n",
       "      <th>75%</th>\n",
       "      <td>54682.000000</td>\n",
       "      <td>61.000000</td>\n",
       "      <td>0.000000</td>\n",
       "      <td>0.000000</td>\n",
       "      <td>114.090000</td>\n",
       "      <td>33.100000</td>\n",
       "      <td>0.000000</td>\n",
       "    </tr>\n",
       "    <tr>\n",
       "      <th>max</th>\n",
       "      <td>72940.000000</td>\n",
       "      <td>82.000000</td>\n",
       "      <td>1.000000</td>\n",
       "      <td>1.000000</td>\n",
       "      <td>271.740000</td>\n",
       "      <td>97.600000</td>\n",
       "      <td>1.000000</td>\n",
       "    </tr>\n",
       "  </tbody>\n",
       "</table>\n",
       "</div>"
      ],
      "text/plain": [
       "                 id          age  hypertension  heart_disease  \\\n",
       "count   5110.000000  5110.000000   5110.000000    5110.000000   \n",
       "mean   36517.829354    43.226614      0.097456       0.054012   \n",
       "std    21161.721625    22.612647      0.296607       0.226063   \n",
       "min       67.000000     0.080000      0.000000       0.000000   \n",
       "25%    17741.250000    25.000000      0.000000       0.000000   \n",
       "50%    36932.000000    45.000000      0.000000       0.000000   \n",
       "75%    54682.000000    61.000000      0.000000       0.000000   \n",
       "max    72940.000000    82.000000      1.000000       1.000000   \n",
       "\n",
       "       avg_glucose_level          bmi       stroke  \n",
       "count        5110.000000  4909.000000  5110.000000  \n",
       "mean          106.147677    28.893237     0.048728  \n",
       "std            45.283560     7.854067     0.215320  \n",
       "min            55.120000    10.300000     0.000000  \n",
       "25%            77.245000    23.500000     0.000000  \n",
       "50%            91.885000    28.100000     0.000000  \n",
       "75%           114.090000    33.100000     0.000000  \n",
       "max           271.740000    97.600000     1.000000  "
      ]
     },
     "execution_count": 5,
     "metadata": {},
     "output_type": "execute_result"
    }
   ],
   "source": [
    "data.describe()"
   ]
  },
  {
   "cell_type": "markdown",
   "id": "0f78c4ea",
   "metadata": {},
   "source": [
    "Заменим тип данных столбцов `gender`, `work_type` и `smoking_status` на тип, предназначенный для хранения категориальных данных"
   ]
  },
  {
   "cell_type": "code",
   "execution_count": 6,
   "id": "375292f3",
   "metadata": {},
   "outputs": [],
   "source": [
    "data['gender'] = data['gender'].astype('category')\n",
    "data['work_type'] = data['work_type'].astype('category')\n",
    "data['smoking_status'] = data['smoking_status'].astype('category')"
   ]
  },
  {
   "cell_type": "code",
   "execution_count": 7,
   "id": "d14ff494",
   "metadata": {
    "scrolled": true
   },
   "outputs": [
    {
     "data": {
      "text/html": [
       "<div>\n",
       "<style scoped>\n",
       "    .dataframe tbody tr th:only-of-type {\n",
       "        vertical-align: middle;\n",
       "    }\n",
       "\n",
       "    .dataframe tbody tr th {\n",
       "        vertical-align: top;\n",
       "    }\n",
       "\n",
       "    .dataframe thead th {\n",
       "        text-align: right;\n",
       "    }\n",
       "</style>\n",
       "<table border=\"1\" class=\"dataframe\">\n",
       "  <thead>\n",
       "    <tr style=\"text-align: right;\">\n",
       "      <th></th>\n",
       "      <th>gender</th>\n",
       "      <th>work_type</th>\n",
       "      <th>smoking_status</th>\n",
       "    </tr>\n",
       "  </thead>\n",
       "  <tbody>\n",
       "    <tr>\n",
       "      <th>count</th>\n",
       "      <td>5110</td>\n",
       "      <td>5110</td>\n",
       "      <td>5110</td>\n",
       "    </tr>\n",
       "    <tr>\n",
       "      <th>unique</th>\n",
       "      <td>3</td>\n",
       "      <td>5</td>\n",
       "      <td>4</td>\n",
       "    </tr>\n",
       "    <tr>\n",
       "      <th>top</th>\n",
       "      <td>Female</td>\n",
       "      <td>Private</td>\n",
       "      <td>never smoked</td>\n",
       "    </tr>\n",
       "    <tr>\n",
       "      <th>freq</th>\n",
       "      <td>2994</td>\n",
       "      <td>2925</td>\n",
       "      <td>1892</td>\n",
       "    </tr>\n",
       "  </tbody>\n",
       "</table>\n",
       "</div>"
      ],
      "text/plain": [
       "        gender work_type smoking_status\n",
       "count     5110      5110           5110\n",
       "unique       3         5              4\n",
       "top     Female   Private   never smoked\n",
       "freq      2994      2925           1892"
      ]
     },
     "execution_count": 7,
     "metadata": {},
     "output_type": "execute_result"
    }
   ],
   "source": [
    "data.describe(include=['category'])"
   ]
  },
  {
   "cell_type": "markdown",
   "id": "dec8accf",
   "metadata": {},
   "source": [
    "Заменим строковые значения на числовые:"
   ]
  },
  {
   "cell_type": "code",
   "execution_count": 8,
   "id": "8ea7f596",
   "metadata": {},
   "outputs": [],
   "source": [
    "from sklearn.preprocessing import LabelEncoder\n",
    "label_encoder = LabelEncoder()\n",
    "# transforms the string labels to integer representation\n",
    "data['gender'] = label_encoder.fit_transform(data['gender'])\n",
    "data['ever_married'] = label_encoder.fit_transform(data['ever_married'])\n",
    "data['Residence_type'] = label_encoder.fit_transform(data['Residence_type'])\n",
    "data['work_type'] = label_encoder.fit_transform(data['work_type'])\n",
    "data['smoking_status'] = label_encoder.fit_transform(data['smoking_status'])"
   ]
  },
  {
   "cell_type": "code",
   "execution_count": 9,
   "id": "f46d000d",
   "metadata": {},
   "outputs": [
    {
     "data": {
      "text/html": [
       "<div>\n",
       "<style scoped>\n",
       "    .dataframe tbody tr th:only-of-type {\n",
       "        vertical-align: middle;\n",
       "    }\n",
       "\n",
       "    .dataframe tbody tr th {\n",
       "        vertical-align: top;\n",
       "    }\n",
       "\n",
       "    .dataframe thead th {\n",
       "        text-align: right;\n",
       "    }\n",
       "</style>\n",
       "<table border=\"1\" class=\"dataframe\">\n",
       "  <thead>\n",
       "    <tr style=\"text-align: right;\">\n",
       "      <th></th>\n",
       "      <th>id</th>\n",
       "      <th>gender</th>\n",
       "      <th>age</th>\n",
       "      <th>hypertension</th>\n",
       "      <th>heart_disease</th>\n",
       "      <th>ever_married</th>\n",
       "      <th>work_type</th>\n",
       "      <th>Residence_type</th>\n",
       "      <th>avg_glucose_level</th>\n",
       "      <th>bmi</th>\n",
       "      <th>smoking_status</th>\n",
       "      <th>stroke</th>\n",
       "    </tr>\n",
       "  </thead>\n",
       "  <tbody>\n",
       "    <tr>\n",
       "      <th>count</th>\n",
       "      <td>5110.000000</td>\n",
       "      <td>5110.000000</td>\n",
       "      <td>5110.000000</td>\n",
       "      <td>5110.000000</td>\n",
       "      <td>5110.000000</td>\n",
       "      <td>5110.000000</td>\n",
       "      <td>5110.000000</td>\n",
       "      <td>5110.000000</td>\n",
       "      <td>5110.000000</td>\n",
       "      <td>4909.000000</td>\n",
       "      <td>5110.000000</td>\n",
       "      <td>5110.000000</td>\n",
       "    </tr>\n",
       "    <tr>\n",
       "      <th>mean</th>\n",
       "      <td>36517.829354</td>\n",
       "      <td>0.414286</td>\n",
       "      <td>43.226614</td>\n",
       "      <td>0.097456</td>\n",
       "      <td>0.054012</td>\n",
       "      <td>0.656164</td>\n",
       "      <td>2.167710</td>\n",
       "      <td>0.508023</td>\n",
       "      <td>106.147677</td>\n",
       "      <td>28.893237</td>\n",
       "      <td>1.376908</td>\n",
       "      <td>0.048728</td>\n",
       "    </tr>\n",
       "    <tr>\n",
       "      <th>std</th>\n",
       "      <td>21161.721625</td>\n",
       "      <td>0.493044</td>\n",
       "      <td>22.612647</td>\n",
       "      <td>0.296607</td>\n",
       "      <td>0.226063</td>\n",
       "      <td>0.475034</td>\n",
       "      <td>1.090293</td>\n",
       "      <td>0.499985</td>\n",
       "      <td>45.283560</td>\n",
       "      <td>7.854067</td>\n",
       "      <td>1.071534</td>\n",
       "      <td>0.215320</td>\n",
       "    </tr>\n",
       "    <tr>\n",
       "      <th>min</th>\n",
       "      <td>67.000000</td>\n",
       "      <td>0.000000</td>\n",
       "      <td>0.080000</td>\n",
       "      <td>0.000000</td>\n",
       "      <td>0.000000</td>\n",
       "      <td>0.000000</td>\n",
       "      <td>0.000000</td>\n",
       "      <td>0.000000</td>\n",
       "      <td>55.120000</td>\n",
       "      <td>10.300000</td>\n",
       "      <td>0.000000</td>\n",
       "      <td>0.000000</td>\n",
       "    </tr>\n",
       "    <tr>\n",
       "      <th>25%</th>\n",
       "      <td>17741.250000</td>\n",
       "      <td>0.000000</td>\n",
       "      <td>25.000000</td>\n",
       "      <td>0.000000</td>\n",
       "      <td>0.000000</td>\n",
       "      <td>0.000000</td>\n",
       "      <td>2.000000</td>\n",
       "      <td>0.000000</td>\n",
       "      <td>77.245000</td>\n",
       "      <td>23.500000</td>\n",
       "      <td>0.000000</td>\n",
       "      <td>0.000000</td>\n",
       "    </tr>\n",
       "    <tr>\n",
       "      <th>50%</th>\n",
       "      <td>36932.000000</td>\n",
       "      <td>0.000000</td>\n",
       "      <td>45.000000</td>\n",
       "      <td>0.000000</td>\n",
       "      <td>0.000000</td>\n",
       "      <td>1.000000</td>\n",
       "      <td>2.000000</td>\n",
       "      <td>1.000000</td>\n",
       "      <td>91.885000</td>\n",
       "      <td>28.100000</td>\n",
       "      <td>2.000000</td>\n",
       "      <td>0.000000</td>\n",
       "    </tr>\n",
       "    <tr>\n",
       "      <th>75%</th>\n",
       "      <td>54682.000000</td>\n",
       "      <td>1.000000</td>\n",
       "      <td>61.000000</td>\n",
       "      <td>0.000000</td>\n",
       "      <td>0.000000</td>\n",
       "      <td>1.000000</td>\n",
       "      <td>3.000000</td>\n",
       "      <td>1.000000</td>\n",
       "      <td>114.090000</td>\n",
       "      <td>33.100000</td>\n",
       "      <td>2.000000</td>\n",
       "      <td>0.000000</td>\n",
       "    </tr>\n",
       "    <tr>\n",
       "      <th>max</th>\n",
       "      <td>72940.000000</td>\n",
       "      <td>2.000000</td>\n",
       "      <td>82.000000</td>\n",
       "      <td>1.000000</td>\n",
       "      <td>1.000000</td>\n",
       "      <td>1.000000</td>\n",
       "      <td>4.000000</td>\n",
       "      <td>1.000000</td>\n",
       "      <td>271.740000</td>\n",
       "      <td>97.600000</td>\n",
       "      <td>3.000000</td>\n",
       "      <td>1.000000</td>\n",
       "    </tr>\n",
       "  </tbody>\n",
       "</table>\n",
       "</div>"
      ],
      "text/plain": [
       "                 id       gender          age  hypertension  heart_disease  \\\n",
       "count   5110.000000  5110.000000  5110.000000   5110.000000    5110.000000   \n",
       "mean   36517.829354     0.414286    43.226614      0.097456       0.054012   \n",
       "std    21161.721625     0.493044    22.612647      0.296607       0.226063   \n",
       "min       67.000000     0.000000     0.080000      0.000000       0.000000   \n",
       "25%    17741.250000     0.000000    25.000000      0.000000       0.000000   \n",
       "50%    36932.000000     0.000000    45.000000      0.000000       0.000000   \n",
       "75%    54682.000000     1.000000    61.000000      0.000000       0.000000   \n",
       "max    72940.000000     2.000000    82.000000      1.000000       1.000000   \n",
       "\n",
       "       ever_married    work_type  Residence_type  avg_glucose_level  \\\n",
       "count   5110.000000  5110.000000     5110.000000        5110.000000   \n",
       "mean       0.656164     2.167710        0.508023         106.147677   \n",
       "std        0.475034     1.090293        0.499985          45.283560   \n",
       "min        0.000000     0.000000        0.000000          55.120000   \n",
       "25%        0.000000     2.000000        0.000000          77.245000   \n",
       "50%        1.000000     2.000000        1.000000          91.885000   \n",
       "75%        1.000000     3.000000        1.000000         114.090000   \n",
       "max        1.000000     4.000000        1.000000         271.740000   \n",
       "\n",
       "               bmi  smoking_status       stroke  \n",
       "count  4909.000000     5110.000000  5110.000000  \n",
       "mean     28.893237        1.376908     0.048728  \n",
       "std       7.854067        1.071534     0.215320  \n",
       "min      10.300000        0.000000     0.000000  \n",
       "25%      23.500000        0.000000     0.000000  \n",
       "50%      28.100000        2.000000     0.000000  \n",
       "75%      33.100000        2.000000     0.000000  \n",
       "max      97.600000        3.000000     1.000000  "
      ]
     },
     "execution_count": 9,
     "metadata": {},
     "output_type": "execute_result"
    }
   ],
   "source": [
    "data.describe()"
   ]
  },
  {
   "cell_type": "markdown",
   "id": "887542b0",
   "metadata": {},
   "source": [
    "# Ищем пустые значения"
   ]
  },
  {
   "cell_type": "code",
   "execution_count": 10,
   "id": "a823bc91",
   "metadata": {
    "scrolled": true
   },
   "outputs": [
    {
     "data": {
      "text/plain": [
       "id                     0\n",
       "gender                 0\n",
       "age                    0\n",
       "hypertension           0\n",
       "heart_disease          0\n",
       "ever_married           0\n",
       "work_type              0\n",
       "Residence_type         0\n",
       "avg_glucose_level      0\n",
       "bmi                  201\n",
       "smoking_status         0\n",
       "stroke                 0\n",
       "dtype: int64"
      ]
     },
     "execution_count": 10,
     "metadata": {},
     "output_type": "execute_result"
    }
   ],
   "source": [
    "data.isnull().sum()"
   ]
  },
  {
   "cell_type": "markdown",
   "id": "b47b4a1c",
   "metadata": {},
   "source": [
    "Есть 201 пустое значение в столбце `bmi`, заменим их на значение медианы."
   ]
  },
  {
   "cell_type": "code",
   "execution_count": 11,
   "id": "93bd5d19",
   "metadata": {},
   "outputs": [
    {
     "data": {
      "text/plain": [
       "28.1"
      ]
     },
     "execution_count": 11,
     "metadata": {},
     "output_type": "execute_result"
    }
   ],
   "source": [
    "data['bmi'].median(axis = 0)"
   ]
  },
  {
   "cell_type": "code",
   "execution_count": 12,
   "id": "ea1a9e0c",
   "metadata": {},
   "outputs": [],
   "source": [
    "data['bmi'] = data['bmi'].fillna(data['bmi'].median(axis = 0), axis=0)"
   ]
  },
  {
   "cell_type": "code",
   "execution_count": 13,
   "id": "44cd9e3f",
   "metadata": {},
   "outputs": [
    {
     "data": {
      "text/plain": [
       "id                   0\n",
       "gender               0\n",
       "age                  0\n",
       "hypertension         0\n",
       "heart_disease        0\n",
       "ever_married         0\n",
       "work_type            0\n",
       "Residence_type       0\n",
       "avg_glucose_level    0\n",
       "bmi                  0\n",
       "smoking_status       0\n",
       "stroke               0\n",
       "dtype: int64"
      ]
     },
     "execution_count": 13,
     "metadata": {},
     "output_type": "execute_result"
    }
   ],
   "source": [
    "data.isnull().sum()"
   ]
  },
  {
   "cell_type": "markdown",
   "id": "3c7e7159",
   "metadata": {},
   "source": [
    "Избавимся от выбросов."
   ]
  },
  {
   "cell_type": "code",
   "execution_count": 14,
   "id": "e6ae4282",
   "metadata": {},
   "outputs": [
    {
     "data": {
      "image/png": "[encoded data removed]",
      "text/plain": [
       "<Figure size 640x480 with 1 Axes>"
      ]
     },
     "metadata": {},
     "output_type": "display_data"
    }
   ],
   "source": [
    "data['avg_glucose_level'].plot(kind='box')\n",
    "pass"
   ]
  },
  {
   "cell_type": "code",
   "execution_count": 15,
   "id": "49a55a43",
   "metadata": {},
   "outputs": [
    {
     "data": {
      "image/png": "[encoded data removed]",
      "text/plain": [
       "<Figure size 640x480 with 1 Axes>"
      ]
     },
     "metadata": {},
     "output_type": "display_data"
    }
   ],
   "source": [
    "data['bmi'].plot(kind='box')\n",
    "pass"
   ]
  },
  {
   "cell_type": "code",
   "execution_count": 16,
   "id": "67ca7ddb",
   "metadata": {},
   "outputs": [
    {
     "data": {
      "text/plain": [
       "0.005     55.78545\n",
       "0.010     56.33090\n",
       "0.050     60.71350\n",
       "0.100     65.78900\n",
       "0.500     91.88500\n",
       "0.900    192.18100\n",
       "0.950    216.29450\n",
       "0.990    240.70820\n",
       "0.995    249.29910\n",
       "Name: avg_glucose_level, dtype: float64"
      ]
     },
     "execution_count": 16,
     "metadata": {},
     "output_type": "execute_result"
    }
   ],
   "source": [
    "data['avg_glucose_level'].quantile([0.005,.01,.05,.1,.5,.9,.95,.99,.995])"
   ]
  },
  {
   "cell_type": "code",
   "execution_count": 228,
   "id": "a00e57e9",
   "metadata": {},
   "outputs": [
    {
     "data": {
      "text/plain": [
       "0.005    15.103\n",
       "0.010    15.800\n",
       "0.050    18.000\n",
       "0.100    20.000\n",
       "0.500    28.100\n",
       "0.900    38.500\n",
       "0.950    42.200\n",
       "0.990    50.200\n",
       "0.995    53.385\n",
       "Name: bmi, dtype: float64"
      ]
     },
     "execution_count": 228,
     "metadata": {},
     "output_type": "execute_result"
    }
   ],
   "source": [
    "data['bmi'].quantile([0.005,.01,.05,.1,.5,.9,.95,.99,.995])"
   ]
  },
  {
   "cell_type": "code",
   "execution_count": 18,
   "id": "c49954fa",
   "metadata": {},
   "outputs": [
    {
     "data": {
      "text/plain": [
       "(5007, 12)"
      ]
     },
     "execution_count": 18,
     "metadata": {},
     "output_type": "execute_result"
    }
   ],
   "source": [
    "rows_to_drop = data[\n",
    "    (data['avg_glucose_level'] < data['avg_glucose_level'].quantile(0.005)) | (data['avg_glucose_level'] > data['avg_glucose_level'].quantile(0.995)) | \n",
    "    (data['bmi']  < data['bmi'].quantile(0.005)) | (data['bmi']  > data['bmi'].quantile(0.995))].index\n",
    "data_new = data.drop(rows_to_drop)\n",
    "data_new.shape"
   ]
  },
  {
   "cell_type": "code",
   "execution_count": 226,
   "id": "ceadb24a",
   "metadata": {},
   "outputs": [
    {
     "data": {
      "text/plain": [
       "0.005     56.3303\n",
       "0.010     56.9406\n",
       "0.050     61.2900\n",
       "0.100     66.0760\n",
       "0.500     91.8500\n",
       "0.900    189.5220\n",
       "0.950    213.5070\n",
       "0.990    235.8368\n",
       "0.995    240.7094\n",
       "Name: avg_glucose_level, dtype: float64"
      ]
     },
     "execution_count": 226,
     "metadata": {},
     "output_type": "execute_result"
    }
   ],
   "source": [
    "data['avg_glucose_level'].quantile([0.005,.01,.05,.1,.5,.9,.95,.99,.995])"
   ]
  },
  {
   "cell_type": "code",
   "execution_count": 231,
   "id": "4d7952d1",
   "metadata": {},
   "outputs": [
    {
     "data": {
      "image/png": "[encoded data removed]",
      "text/plain": [
       "<Figure size 640x480 with 1 Axes>"
      ]
     },
     "metadata": {},
     "output_type": "display_data"
    }
   ],
   "source": [
    "data['avg_glucose_level'].plot(kind='box')\n",
    "pass"
   ]
  },
  {
   "cell_type": "code",
   "execution_count": 230,
   "id": "6856c377",
   "metadata": {},
   "outputs": [
    {
     "data": {
      "image/png": "[encoded data removed]",
      "text/plain": [
       "<Figure size 640x480 with 1 Axes>"
      ]
     },
     "metadata": {},
     "output_type": "display_data"
    }
   ],
   "source": [
    "data['bmi'].plot(kind='box')\n",
    "pass"
   ]
  },
  {
   "cell_type": "code",
   "execution_count": 19,
   "id": "acd4232e",
   "metadata": {},
   "outputs": [
    {
     "data": {
      "text/plain": [
       "2.015655577299413"
      ]
     },
     "execution_count": 19,
     "metadata": {},
     "output_type": "execute_result"
    }
   ],
   "source": [
    "(data.shape[0] - data_new.shape[0]) / data.shape[0] * 100 # процентов выбросов"
   ]
  },
  {
   "cell_type": "code",
   "execution_count": 20,
   "id": "e13c07d9",
   "metadata": {},
   "outputs": [],
   "source": [
    "data = data_new"
   ]
  },
  {
   "cell_type": "markdown",
   "id": "6424f018",
   "metadata": {},
   "source": [
    "# Обучающая и тестовая выборки"
   ]
  },
  {
   "cell_type": "markdown",
   "id": "3205ca04",
   "metadata": {},
   "source": [
    "Для задачи классификации будем использовать все входные признаки, кроме `id`"
   ]
  },
  {
   "cell_type": "code",
   "execution_count": 21,
   "id": "ede35f0c",
   "metadata": {},
   "outputs": [],
   "source": [
    "X = data.drop(['stroke', 'id'], axis = 1)\n",
    "y = data['stroke']"
   ]
  },
  {
   "cell_type": "code",
   "execution_count": 22,
   "id": "cbab3e49",
   "metadata": {},
   "outputs": [],
   "source": [
    "from sklearn.model_selection import train_test_split\n",
    "X_train, X_test, y_train, y_test = train_test_split(X, y, test_size = 0.3, random_state = 7)"
   ]
  },
  {
   "cell_type": "markdown",
   "id": "575891fa",
   "metadata": {},
   "source": [
    "# Визуализируйте данные из обучающей выборки. "
   ]
  },
  {
   "cell_type": "code",
   "execution_count": 23,
   "id": "b8cf7723",
   "metadata": {},
   "outputs": [
    {
     "data": {
      "image/png": "[encoded data removed]",
      "text/plain": [
       "<Figure size 500x500 with 1 Axes>"
      ]
     },
     "metadata": {},
     "output_type": "display_data"
    }
   ],
   "source": [
    "X_train.hist('age', figsize = (5, 5))\n",
    "pass"
   ]
  },
  {
   "cell_type": "code",
   "execution_count": 24,
   "id": "0b293384",
   "metadata": {},
   "outputs": [
    {
     "data": {
      "text/plain": [
       "array([[<AxesSubplot: title={'center': 'avg_glucose_level'}>]],\n",
       "      dtype=object)"
      ]
     },
     "execution_count": 24,
     "metadata": {},
     "output_type": "execute_result"
    },
    {
     "data": {
      "image/png": "[encoded data removed]",
      "text/plain": [
       "<Figure size 500x500 with 1 Axes>"
      ]
     },
     "metadata": {},
     "output_type": "display_data"
    }
   ],
   "source": [
    "X_train.hist('avg_glucose_level', figsize = (5, 5))"
   ]
  },
  {
   "cell_type": "code",
   "execution_count": 25,
   "id": "69c95d54",
   "metadata": {},
   "outputs": [
    {
     "data": {
      "text/plain": [
       "array([[<AxesSubplot: title={'center': 'bmi'}>]], dtype=object)"
      ]
     },
     "execution_count": 25,
     "metadata": {},
     "output_type": "execute_result"
    },
    {
     "data": {
      "image/png": "[encoded data removed]",
      "text/plain": [
       "<Figure size 500x500 with 1 Axes>"
      ]
     },
     "metadata": {},
     "output_type": "display_data"
    }
   ],
   "source": [
    "X_train.hist('bmi', figsize = (5, 5))"
   ]
  },
  {
   "cell_type": "code",
   "execution_count": 26,
   "id": "9f0ae0de",
   "metadata": {},
   "outputs": [
    {
     "data": {
      "text/plain": [
       "<AxesSubplot: xlabel='heart_disease', ylabel='count'>"
      ]
     },
     "execution_count": 26,
     "metadata": {},
     "output_type": "execute_result"
    },
    {
     "data": {
      "image/png": "[encoded data removed]",
      "text/plain": [
       "<Figure size 3000x1500 with 7 Axes>"
      ]
     },
     "metadata": {},
     "output_type": "display_data"
    }
   ],
   "source": [
    "fig, ax = plt.subplots(2,4)\n",
    "fig.set_size_inches(30, 15)\n",
    "fig.delaxes(ax[1][3])\n",
    "sns.countplot(x=\"hypertension\", ax=ax[0,0], data=X_train, order=data['hypertension'].value_counts().index)\n",
    "sns.countplot(x=\"gender\", data=X_train, ax=ax[0,1], order=data['gender'].value_counts().index)\n",
    "sns.countplot(x=\"ever_married\", data=X_train, ax=ax[0,2], order=data['ever_married'].value_counts().index)\n",
    "sns.countplot(x=\"work_type\", data=X_train, ax=ax[0,3], order=data['work_type'].value_counts().index)\n",
    "sns.countplot(x=\"Residence_type\", data=X_train, ax=ax[1,0], order=data['Residence_type'].value_counts().index)\n",
    "sns.countplot(x=\"smoking_status\", data=X_train, ax=ax[1,1], order=data['smoking_status'].value_counts().index)\n",
    "sns.countplot(x=\"heart_disease\", data=X_train, ax=ax[1,2], order=data['heart_disease'].value_counts().index)"
   ]
  },
  {
   "cell_type": "code",
   "execution_count": 27,
   "id": "ea79d6b8",
   "metadata": {},
   "outputs": [
    {
     "data": {
      "text/plain": [
       "<AxesSubplot: >"
      ]
     },
     "execution_count": 27,
     "metadata": {},
     "output_type": "execute_result"
    },
    {
     "data": {
      "image/png": "[encoded data removed]",
      "text/plain": [
       "<Figure size 1000x1000 with 2 Axes>"
      ]
     },
     "metadata": {},
     "output_type": "display_data"
    }
   ],
   "source": [
    "fig, ax = plt.subplots(figsize=(10,10))\n",
    "sns.despine(offset=10, trim=False)\n",
    "\n",
    "sns.heatmap(data.corr(), annot=True, fmt='.1g', vmin=-1, vmax=1, cmap='BrBG', center= 0, square=True, ax = ax)"
   ]
  },
  {
   "cell_type": "markdown",
   "id": "0446bb04",
   "metadata": {},
   "source": [
    "Проанализировав данные, можно сделать следующий вывод: на частоту сердечных заболеваний, в бОльшей степени, влияют возраст и средний уровень глюкозы. В гораздо меньшей степени влияют курение, работа, индекс массы тела, место жительства и пол.\n",
    "\n",
    "\n",
    "Можно заметить и некоторые другие корреляции: например, `age` и `ever_married` (корреляция довольно сильная, действительно, с возрастом люди часто женятся)"
   ]
  },
  {
   "cell_type": "markdown",
   "id": "33067607",
   "metadata": {},
   "source": [
    "# Классификация"
   ]
  },
  {
   "cell_type": "markdown",
   "id": "fb97bf0d",
   "metadata": {},
   "source": [
    "## kNN"
   ]
  },
  {
   "cell_type": "code",
   "execution_count": 213,
   "id": "42a722b0",
   "metadata": {},
   "outputs": [],
   "source": [
    "from sklearn.neighbors import KNeighborsClassifier\n",
    "from sklearn import metrics\n",
    "from sklearn.metrics import confusion_matrix, ConfusionMatrixDisplay\n",
    "model = KNeighborsClassifier(n_neighbors=3)"
   ]
  },
  {
   "cell_type": "code",
   "execution_count": 214,
   "id": "7bbf96b3",
   "metadata": {},
   "outputs": [
    {
     "data": {
      "text/html": [
       "<style>#sk-container-id-35 {color: black;background-color: white;}#sk-container-id-35 pre{padding: 0;}#sk-container-id-35 div.sk-toggleable {background-color: white;}#sk-container-id-35 label.sk-toggleable__label {cursor: pointer;display: block;width: 100%;margin-bottom: 0;padding: 0.3em;box-sizing: border-box;text-align: center;}#sk-container-id-35 label.sk-toggleable__label-arrow:before {content: \"▸\";float: left;margin-right: 0.25em;color: #696969;}#sk-container-id-35 label.sk-toggleable__label-arrow:hover:before {color: black;}#sk-container-id-35 div.sk-estimator:hover label.sk-toggleable__label-arrow:before {color: black;}#sk-container-id-35 div.sk-toggleable__content {max-height: 0;max-width: 0;overflow: hidden;text-align: left;background-color: #f0f8ff;}#sk-container-id-35 div.sk-toggleable__content pre {margin: 0.2em;color: black;border-radius: 0.25em;background-color: #f0f8ff;}#sk-container-id-35 input.sk-toggleable__control:checked~div.sk-toggleable__content {max-height: 200px;max-width: 100%;overflow: auto;}#sk-container-id-35 input.sk-toggleable__control:checked~label.sk-toggleable__label-arrow:before {content: \"▾\";}#sk-container-id-35 div.sk-estimator input.sk-toggleable__control:checked~label.sk-toggleable__label {background-color: #d4ebff;}#sk-container-id-35 div.sk-label input.sk-toggleable__control:checked~label.sk-toggleable__label {background-color: #d4ebff;}#sk-container-id-35 input.sk-hidden--visually {border: 0;clip: rect(1px 1px 1px 1px);clip: rect(1px, 1px, 1px, 1px);height: 1px;margin: -1px;overflow: hidden;padding: 0;position: absolute;width: 1px;}#sk-container-id-35 div.sk-estimator {font-family: monospace;background-color: #f0f8ff;border: 1px dotted black;border-radius: 0.25em;box-sizing: border-box;margin-bottom: 0.5em;}#sk-container-id-35 div.sk-estimator:hover {background-color: #d4ebff;}#sk-container-id-35 div.sk-parallel-item::after {content: \"\";width: 100%;border-bottom: 1px solid gray;flex-grow: 1;}#sk-container-id-35 div.sk-label:hover label.sk-toggleable__label {background-color: #d4ebff;}#sk-container-id-35 div.sk-serial::before {content: \"\";position: absolute;border-left: 1px solid gray;box-sizing: border-box;top: 0;bottom: 0;left: 50%;z-index: 0;}#sk-container-id-35 div.sk-serial {display: flex;flex-direction: column;align-items: center;background-color: white;padding-right: 0.2em;padding-left: 0.2em;position: relative;}#sk-container-id-35 div.sk-item {position: relative;z-index: 1;}#sk-container-id-35 div.sk-parallel {display: flex;align-items: stretch;justify-content: center;background-color: white;position: relative;}#sk-container-id-35 div.sk-item::before, #sk-container-id-35 div.sk-parallel-item::before {content: \"\";position: absolute;border-left: 1px solid gray;box-sizing: border-box;top: 0;bottom: 0;left: 50%;z-index: -1;}#sk-container-id-35 div.sk-parallel-item {display: flex;flex-direction: column;z-index: 1;position: relative;background-color: white;}#sk-container-id-35 div.sk-parallel-item:first-child::after {align-self: flex-end;width: 50%;}#sk-container-id-35 div.sk-parallel-item:last-child::after {align-self: flex-start;width: 50%;}#sk-container-id-35 div.sk-parallel-item:only-child::after {width: 0;}#sk-container-id-35 div.sk-dashed-wrapped {border: 1px dashed gray;margin: 0 0.4em 0.5em 0.4em;box-sizing: border-box;padding-bottom: 0.4em;background-color: white;}#sk-container-id-35 div.sk-label label {font-family: monospace;font-weight: bold;display: inline-block;line-height: 1.2em;}#sk-container-id-35 div.sk-label-container {text-align: center;}#sk-container-id-35 div.sk-container {/* jupyter's `normalize.less` sets `[hidden] { display: none; }` but bootstrap.min.css set `[hidden] { display: none !important; }` so we also need the `!important` here to be able to override the default hidden behavior on the sphinx rendered scikit-learn.org. See: https://github.com/scikit-learn/scikit-learn/issues/21755 */display: inline-block !important;position: relative;}#sk-container-id-35 div.sk-text-repr-fallback {display: none;}</style><div id=\"sk-container-id-35\" class=\"sk-top-container\"><div class=\"sk-text-repr-fallback\"><pre>KNeighborsClassifier(n_neighbors=3)</pre><b>In a Jupyter environment, please rerun this cell to show the HTML representation or trust the notebook. <br />On GitHub, the HTML representation is unable to render, please try loading this page with nbviewer.org.</b></div><div class=\"sk-container\" hidden><div class=\"sk-item\"><div class=\"sk-estimator sk-toggleable\"><input class=\"sk-toggleable__control sk-hidden--visually\" id=\"sk-estimator-id-61\" type=\"checkbox\" checked><label for=\"sk-estimator-id-61\" class=\"sk-toggleable__label sk-toggleable__label-arrow\">KNeighborsClassifier</label><div class=\"sk-toggleable__content\"><pre>KNeighborsClassifier(n_neighbors=3)</pre></div></div></div></div></div>"
      ],
      "text/plain": [
       "KNeighborsClassifier(n_neighbors=3)"
      ]
     },
     "execution_count": 214,
     "metadata": {},
     "output_type": "execute_result"
    }
   ],
   "source": [
    "model.fit(X_train, y_train)"
   ]
  },
  {
   "cell_type": "code",
   "execution_count": 215,
   "id": "e7b606f9",
   "metadata": {},
   "outputs": [
    {
     "name": "stdout",
     "output_type": "stream",
     "text": [
      "Test:  Accuracy = 93.74584165003327\n"
     ]
    }
   ],
   "source": [
    "y_train_predict = model.predict(X_train)\n",
    "y_test_predict = model.predict(X_test)\n",
    "# test_pred = model.predict(X_test)\n",
    "print(\"Test:\", \" Accuracy =\", model.score(X_test, y_test) *100)"
   ]
  },
  {
   "cell_type": "code",
   "execution_count": 216,
   "id": "d459b698",
   "metadata": {},
   "outputs": [
    {
     "name": "stdout",
     "output_type": "stream",
     "text": [
      "Train:\n",
      " [[3316   18]\n",
      " [ 127   43]]\n",
      "\n",
      "Test:\n",
      " [[1406   25]\n",
      " [  69    3]]\n",
      "\n"
     ]
    }
   ],
   "source": [
    "print(\"Train:\\n\", confusion_matrix(y_train, y_train_predict), end=\"\\n\\n\")\n",
    "print(\"Test:\\n\", confusion_matrix(y_test, test_pred), end=\"\\n\\n\")"
   ]
  },
  {
   "cell_type": "markdown",
   "id": "6173d51d",
   "metadata": {},
   "source": [
    "Попробуем изменить подбор гиперпараметров."
   ]
  },
  {
   "cell_type": "markdown",
   "id": "56381592",
   "metadata": {},
   "source": [
    "## kNN (подбор гиперпараметров)"
   ]
  },
  {
   "cell_type": "code",
   "execution_count": 191,
   "id": "0ffc4055",
   "metadata": {},
   "outputs": [],
   "source": [
    "from sklearn.model_selection import GridSearchCV\n",
    "from sklearn.metrics import confusion_matrix, ConfusionMatrixDisplay, accuracy_score, classification_report, f1_score, precision_score, recall_score"
   ]
  },
  {
   "cell_type": "code",
   "execution_count": 192,
   "id": "2e00dd61",
   "metadata": {},
   "outputs": [],
   "source": [
    "param_grid = {'n_neighbors':[1,3,5,7,9,11,13,15,20,30,40,50],\n",
    "              'weights':[\"uniform\", 'distance'],\n",
    "              'metric':['minkowski','cosine', 'euclidean','cityblock']}"
   ]
  },
  {
   "cell_type": "code",
   "execution_count": 193,
   "id": "3931f6d0",
   "metadata": {},
   "outputs": [
    {
     "name": "stdout",
     "output_type": "stream",
     "text": [
      "Fitting 5 folds for each of 96 candidates, totalling 480 fits\n",
      "[CV 1/5] END metric=minkowski, n_neighbors=1, weights=uniform;, score=0.922 total time=   0.0s\n",
      "[CV 2/5] END metric=minkowski, n_neighbors=1, weights=uniform;, score=0.920 total time=   0.0s\n",
      "[CV 3/5] END metric=minkowski, n_neighbors=1, weights=uniform;, score=0.913 total time=   0.0s\n",
      "[CV 4/5] END metric=minkowski, n_neighbors=1, weights=uniform;, score=0.910 total time=   0.0s\n",
      "[CV 5/5] END metric=minkowski, n_neighbors=1, weights=uniform;, score=0.911 total time=   0.0s\n",
      "[CV 1/5] END metric=minkowski, n_neighbors=1, weights=distance;, score=0.922 total time=   0.0s\n",
      "[CV 2/5] END metric=minkowski, n_neighbors=1, weights=distance;, score=0.920 total time=   0.0s\n",
      "[CV 3/5] END metric=minkowski, n_neighbors=1, weights=distance;, score=0.913 total time=   0.0s\n",
      "[CV 4/5] END metric=minkowski, n_neighbors=1, weights=distance;, score=0.910 total time=   0.0s\n",
      "[CV 5/5] END metric=minkowski, n_neighbors=1, weights=distance;, score=0.911 total time=   0.0s\n",
      "[CV 1/5] END metric=minkowski, n_neighbors=3, weights=uniform;, score=0.936 total time=   0.0s\n",
      "[CV 2/5] END metric=minkowski, n_neighbors=3, weights=uniform;, score=0.942 total time=   0.0s\n",
      "[CV 3/5] END metric=minkowski, n_neighbors=3, weights=uniform;, score=0.940 total time=   0.0s\n",
      "[CV 4/5] END metric=minkowski, n_neighbors=3, weights=uniform;, score=0.932 total time=   0.0s\n",
      "[CV 5/5] END metric=minkowski, n_neighbors=3, weights=uniform;, score=0.930 total time=   0.0s\n",
      "[CV 1/5] END metric=minkowski, n_neighbors=3, weights=distance;, score=0.934 total time=   0.0s\n",
      "[CV 2/5] END metric=minkowski, n_neighbors=3, weights=distance;, score=0.940 total time=   0.0s\n",
      "[CV 3/5] END metric=minkowski, n_neighbors=3, weights=distance;, score=0.939 total time=   0.0s\n",
      "[CV 4/5] END metric=minkowski, n_neighbors=3, weights=distance;, score=0.930 total time=   0.0s\n",
      "[CV 5/5] END metric=minkowski, n_neighbors=3, weights=distance;, score=0.929 total time=   0.0s\n",
      "[CV 1/5] END metric=minkowski, n_neighbors=5, weights=uniform;, score=0.943 total time=   0.0s\n",
      "[CV 2/5] END metric=minkowski, n_neighbors=5, weights=uniform;, score=0.944 total time=   0.0s\n",
      "[CV 3/5] END metric=minkowski, n_neighbors=5, weights=uniform;, score=0.949 total time=   0.0s\n",
      "[CV 4/5] END metric=minkowski, n_neighbors=5, weights=uniform;, score=0.936 total time=   0.0s\n",
      "[CV 5/5] END metric=minkowski, n_neighbors=5, weights=uniform;, score=0.941 total time=   0.0s\n",
      "[CV 1/5] END metric=minkowski, n_neighbors=5, weights=distance;, score=0.943 total time=   0.0s\n",
      "[CV 2/5] END metric=minkowski, n_neighbors=5, weights=distance;, score=0.944 total time=   0.0s\n",
      "[CV 3/5] END metric=minkowski, n_neighbors=5, weights=distance;, score=0.947 total time=   0.0s\n",
      "[CV 4/5] END metric=minkowski, n_neighbors=5, weights=distance;, score=0.936 total time=   0.0s\n",
      "[CV 5/5] END metric=minkowski, n_neighbors=5, weights=distance;, score=0.941 total time=   0.0s\n",
      "[CV 1/5] END metric=minkowski, n_neighbors=7, weights=uniform;, score=0.947 total time=   0.0s\n",
      "[CV 2/5] END metric=minkowski, n_neighbors=7, weights=uniform;, score=0.951 total time=   0.0s\n",
      "[CV 3/5] END metric=minkowski, n_neighbors=7, weights=uniform;, score=0.949 total time=   0.0s\n",
      "[CV 4/5] END metric=minkowski, n_neighbors=7, weights=uniform;, score=0.947 total time=   0.0s\n",
      "[CV 5/5] END metric=minkowski, n_neighbors=7, weights=uniform;, score=0.947 total time=   0.0s\n",
      "[CV 1/5] END metric=minkowski, n_neighbors=7, weights=distance;, score=0.946 total time=   0.0s\n",
      "[CV 2/5] END metric=minkowski, n_neighbors=7, weights=distance;, score=0.951 total time=   0.0s\n",
      "[CV 3/5] END metric=minkowski, n_neighbors=7, weights=distance;, score=0.949 total time=   0.0s\n",
      "[CV 4/5] END metric=minkowski, n_neighbors=7, weights=distance;, score=0.940 total time=   0.0s\n",
      "[CV 5/5] END metric=minkowski, n_neighbors=7, weights=distance;, score=0.949 total time=   0.0s\n",
      "[CV 1/5] END metric=minkowski, n_neighbors=9, weights=uniform;, score=0.951 total time=   0.0s\n",
      "[CV 2/5] END metric=minkowski, n_neighbors=9, weights=uniform;, score=0.951 total time=   0.0s\n",
      "[CV 3/5] END metric=minkowski, n_neighbors=9, weights=uniform;, score=0.947 total time=   0.0s\n",
      "[CV 4/5] END metric=minkowski, n_neighbors=9, weights=uniform;, score=0.950 total time=   0.0s\n",
      "[CV 5/5] END metric=minkowski, n_neighbors=9, weights=uniform;, score=0.950 total time=   0.0s\n",
      "[CV 1/5] END metric=minkowski, n_neighbors=9, weights=distance;, score=0.951 total time=   0.0s\n",
      "[CV 2/5] END metric=minkowski, n_neighbors=9, weights=distance;, score=0.951 total time=   0.0s\n",
      "[CV 3/5] END metric=minkowski, n_neighbors=9, weights=distance;, score=0.947 total time=   0.0s\n",
      "[CV 4/5] END metric=minkowski, n_neighbors=9, weights=distance;, score=0.946 total time=   0.0s\n",
      "[CV 5/5] END metric=minkowski, n_neighbors=9, weights=distance;, score=0.951 total time=   0.0s\n",
      "[CV 1/5] END metric=minkowski, n_neighbors=11, weights=uniform;, score=0.951 total time=   0.0s\n",
      "[CV 2/5] END metric=minkowski, n_neighbors=11, weights=uniform;, score=0.950 total time=   0.0s\n",
      "[CV 3/5] END metric=minkowski, n_neighbors=11, weights=uniform;, score=0.950 total time=   0.0s\n",
      "[CV 4/5] END metric=minkowski, n_neighbors=11, weights=uniform;, score=0.950 total time=   0.0s\n",
      "[CV 5/5] END metric=minkowski, n_neighbors=11, weights=uniform;, score=0.951 total time=   0.0s\n",
      "[CV 1/5] END metric=minkowski, n_neighbors=11, weights=distance;, score=0.951 total time=   0.0s\n",
      "[CV 2/5] END metric=minkowski, n_neighbors=11, weights=distance;, score=0.950 total time=   0.0s\n",
      "[CV 3/5] END metric=minkowski, n_neighbors=11, weights=distance;, score=0.950 total time=   0.0s\n",
      "[CV 4/5] END metric=minkowski, n_neighbors=11, weights=distance;, score=0.947 total time=   0.0s\n",
      "[CV 5/5] END metric=minkowski, n_neighbors=11, weights=distance;, score=0.950 total time=   0.0s\n",
      "[CV 1/5] END metric=minkowski, n_neighbors=13, weights=uniform;, score=0.951 total time=   0.0s\n",
      "[CV 2/5] END metric=minkowski, n_neighbors=13, weights=uniform;, score=0.951 total time=   0.0s\n",
      "[CV 3/5] END metric=minkowski, n_neighbors=13, weights=uniform;, score=0.950 total time=   0.0s\n",
      "[CV 4/5] END metric=minkowski, n_neighbors=13, weights=uniform;, score=0.953 total time=   0.0s\n",
      "[CV 5/5] END metric=minkowski, n_neighbors=13, weights=uniform;, score=0.951 total time=   0.0s\n",
      "[CV 1/5] END metric=minkowski, n_neighbors=13, weights=distance;, score=0.951 total time=   0.0s\n",
      "[CV 2/5] END metric=minkowski, n_neighbors=13, weights=distance;, score=0.951 total time=   0.0s\n",
      "[CV 3/5] END metric=minkowski, n_neighbors=13, weights=distance;, score=0.950 total time=   0.0s\n",
      "[CV 4/5] END metric=minkowski, n_neighbors=13, weights=distance;, score=0.949 total time=   0.0s\n",
      "[CV 5/5] END metric=minkowski, n_neighbors=13, weights=distance;, score=0.951 total time=   0.0s\n",
      "[CV 1/5] END metric=minkowski, n_neighbors=15, weights=uniform;, score=0.951 total time=   0.0s\n",
      "[CV 2/5] END metric=minkowski, n_neighbors=15, weights=uniform;, score=0.951 total time=   0.0s\n",
      "[CV 3/5] END metric=minkowski, n_neighbors=15, weights=uniform;, score=0.951 total time=   0.0s\n",
      "[CV 4/5] END metric=minkowski, n_neighbors=15, weights=uniform;, score=0.951 total time=   0.0s\n",
      "[CV 5/5] END metric=minkowski, n_neighbors=15, weights=uniform;, score=0.951 total time=   0.0s\n",
      "[CV 1/5] END metric=minkowski, n_neighbors=15, weights=distance;, score=0.951 total time=   0.0s\n",
      "[CV 2/5] END metric=minkowski, n_neighbors=15, weights=distance;, score=0.951 total time=   0.0s\n",
      "[CV 3/5] END metric=minkowski, n_neighbors=15, weights=distance;, score=0.951 total time=   0.0s\n",
      "[CV 4/5] END metric=minkowski, n_neighbors=15, weights=distance;, score=0.951 total time=   0.0s\n",
      "[CV 5/5] END metric=minkowski, n_neighbors=15, weights=distance;, score=0.951 total time=   0.0s\n",
      "[CV 1/5] END metric=minkowski, n_neighbors=20, weights=uniform;, score=0.951 total time=   0.0s\n",
      "[CV 2/5] END metric=minkowski, n_neighbors=20, weights=uniform;, score=0.951 total time=   0.0s\n",
      "[CV 3/5] END metric=minkowski, n_neighbors=20, weights=uniform;, score=0.951 total time=   0.0s\n",
      "[CV 4/5] END metric=minkowski, n_neighbors=20, weights=uniform;, score=0.951 total time=   0.0s\n",
      "[CV 5/5] END metric=minkowski, n_neighbors=20, weights=uniform;, score=0.951 total time=   0.0s\n",
      "[CV 1/5] END metric=minkowski, n_neighbors=20, weights=distance;, score=0.951 total time=   0.0s\n",
      "[CV 2/5] END metric=minkowski, n_neighbors=20, weights=distance;, score=0.951 total time=   0.0s\n",
      "[CV 3/5] END metric=minkowski, n_neighbors=20, weights=distance;, score=0.951 total time=   0.0s\n",
      "[CV 4/5] END metric=minkowski, n_neighbors=20, weights=distance;, score=0.951 total time=   0.0s\n"
     ]
    },
    {
     "name": "stdout",
     "output_type": "stream",
     "text": [
      "[CV 5/5] END metric=minkowski, n_neighbors=20, weights=distance;, score=0.951 total time=   0.0s\n",
      "[CV 1/5] END metric=minkowski, n_neighbors=30, weights=uniform;, score=0.951 total time=   0.0s\n",
      "[CV 2/5] END metric=minkowski, n_neighbors=30, weights=uniform;, score=0.951 total time=   0.0s\n",
      "[CV 3/5] END metric=minkowski, n_neighbors=30, weights=uniform;, score=0.951 total time=   0.0s\n",
      "[CV 4/5] END metric=minkowski, n_neighbors=30, weights=uniform;, score=0.951 total time=   0.0s\n",
      "[CV 5/5] END metric=minkowski, n_neighbors=30, weights=uniform;, score=0.951 total time=   0.0s\n",
      "[CV 1/5] END metric=minkowski, n_neighbors=30, weights=distance;, score=0.951 total time=   0.0s\n",
      "[CV 2/5] END metric=minkowski, n_neighbors=30, weights=distance;, score=0.951 total time=   0.0s\n",
      "[CV 3/5] END metric=minkowski, n_neighbors=30, weights=distance;, score=0.951 total time=   0.0s\n",
      "[CV 4/5] END metric=minkowski, n_neighbors=30, weights=distance;, score=0.951 total time=   0.0s\n",
      "[CV 5/5] END metric=minkowski, n_neighbors=30, weights=distance;, score=0.951 total time=   0.0s\n",
      "[CV 1/5] END metric=minkowski, n_neighbors=40, weights=uniform;, score=0.951 total time=   0.0s\n",
      "[CV 2/5] END metric=minkowski, n_neighbors=40, weights=uniform;, score=0.951 total time=   0.0s\n",
      "[CV 3/5] END metric=minkowski, n_neighbors=40, weights=uniform;, score=0.951 total time=   0.0s\n",
      "[CV 4/5] END metric=minkowski, n_neighbors=40, weights=uniform;, score=0.951 total time=   0.0s\n",
      "[CV 5/5] END metric=minkowski, n_neighbors=40, weights=uniform;, score=0.951 total time=   0.0s\n",
      "[CV 1/5] END metric=minkowski, n_neighbors=40, weights=distance;, score=0.951 total time=   0.0s\n",
      "[CV 2/5] END metric=minkowski, n_neighbors=40, weights=distance;, score=0.951 total time=   0.0s\n",
      "[CV 3/5] END metric=minkowski, n_neighbors=40, weights=distance;, score=0.951 total time=   0.0s\n",
      "[CV 4/5] END metric=minkowski, n_neighbors=40, weights=distance;, score=0.951 total time=   0.0s\n",
      "[CV 5/5] END metric=minkowski, n_neighbors=40, weights=distance;, score=0.951 total time=   0.0s\n",
      "[CV 1/5] END metric=minkowski, n_neighbors=50, weights=uniform;, score=0.951 total time=   0.0s\n",
      "[CV 2/5] END metric=minkowski, n_neighbors=50, weights=uniform;, score=0.951 total time=   0.0s\n",
      "[CV 3/5] END metric=minkowski, n_neighbors=50, weights=uniform;, score=0.951 total time=   0.0s\n",
      "[CV 4/5] END metric=minkowski, n_neighbors=50, weights=uniform;, score=0.951 total time=   0.0s\n",
      "[CV 5/5] END metric=minkowski, n_neighbors=50, weights=uniform;, score=0.951 total time=   0.0s\n",
      "[CV 1/5] END metric=minkowski, n_neighbors=50, weights=distance;, score=0.951 total time=   0.0s\n",
      "[CV 2/5] END metric=minkowski, n_neighbors=50, weights=distance;, score=0.951 total time=   0.0s\n",
      "[CV 3/5] END metric=minkowski, n_neighbors=50, weights=distance;, score=0.951 total time=   0.0s\n",
      "[CV 4/5] END metric=minkowski, n_neighbors=50, weights=distance;, score=0.951 total time=   0.0s\n",
      "[CV 5/5] END metric=minkowski, n_neighbors=50, weights=distance;, score=0.951 total time=   0.0s\n",
      "[CV 1/5] END metric=cosine, n_neighbors=1, weights=uniform;, score=0.912 total time=   0.0s\n",
      "[CV 2/5] END metric=cosine, n_neighbors=1, weights=uniform;, score=0.907 total time=   0.0s\n",
      "[CV 3/5] END metric=cosine, n_neighbors=1, weights=uniform;, score=0.907 total time=   0.0s\n",
      "[CV 4/5] END metric=cosine, n_neighbors=1, weights=uniform;, score=0.923 total time=   0.0s\n",
      "[CV 5/5] END metric=cosine, n_neighbors=1, weights=uniform;, score=0.919 total time=   0.0s\n",
      "[CV 1/5] END metric=cosine, n_neighbors=1, weights=distance;, score=0.912 total time=   0.0s\n",
      "[CV 2/5] END metric=cosine, n_neighbors=1, weights=distance;, score=0.907 total time=   0.0s\n",
      "[CV 3/5] END metric=cosine, n_neighbors=1, weights=distance;, score=0.907 total time=   0.0s\n",
      "[CV 4/5] END metric=cosine, n_neighbors=1, weights=distance;, score=0.923 total time=   0.0s\n",
      "[CV 5/5] END metric=cosine, n_neighbors=1, weights=distance;, score=0.919 total time=   0.0s\n",
      "[CV 1/5] END metric=cosine, n_neighbors=3, weights=uniform;, score=0.937 total time=   0.0s\n",
      "[CV 2/5] END metric=cosine, n_neighbors=3, weights=uniform;, score=0.947 total time=   0.0s\n",
      "[CV 3/5] END metric=cosine, n_neighbors=3, weights=uniform;, score=0.943 total time=   0.0s\n",
      "[CV 4/5] END metric=cosine, n_neighbors=3, weights=uniform;, score=0.934 total time=   0.0s\n",
      "[CV 5/5] END metric=cosine, n_neighbors=3, weights=uniform;, score=0.933 total time=   0.1s\n",
      "[CV 1/5] END metric=cosine, n_neighbors=3, weights=distance;, score=0.929 total time=   0.0s\n",
      "[CV 2/5] END metric=cosine, n_neighbors=3, weights=distance;, score=0.944 total time=   0.0s\n",
      "[CV 3/5] END metric=cosine, n_neighbors=3, weights=distance;, score=0.932 total time=   0.0s\n",
      "[CV 4/5] END metric=cosine, n_neighbors=3, weights=distance;, score=0.932 total time=   0.0s\n",
      "[CV 5/5] END metric=cosine, n_neighbors=3, weights=distance;, score=0.930 total time=   0.0s\n",
      "[CV 1/5] END metric=cosine, n_neighbors=5, weights=uniform;, score=0.947 total time=   0.1s\n",
      "[CV 2/5] END metric=cosine, n_neighbors=5, weights=uniform;, score=0.953 total time=   0.0s\n",
      "[CV 3/5] END metric=cosine, n_neighbors=5, weights=uniform;, score=0.949 total time=   0.1s\n",
      "[CV 4/5] END metric=cosine, n_neighbors=5, weights=uniform;, score=0.942 total time=   0.0s\n",
      "[CV 5/5] END metric=cosine, n_neighbors=5, weights=uniform;, score=0.943 total time=   0.0s\n",
      "[CV 1/5] END metric=cosine, n_neighbors=5, weights=distance;, score=0.944 total time=   0.0s\n",
      "[CV 2/5] END metric=cosine, n_neighbors=5, weights=distance;, score=0.954 total time=   0.0s\n",
      "[CV 3/5] END metric=cosine, n_neighbors=5, weights=distance;, score=0.940 total time=   0.0s\n",
      "[CV 4/5] END metric=cosine, n_neighbors=5, weights=distance;, score=0.937 total time=   0.0s\n",
      "[CV 5/5] END metric=cosine, n_neighbors=5, weights=distance;, score=0.936 total time=   0.0s\n",
      "[CV 1/5] END metric=cosine, n_neighbors=7, weights=uniform;, score=0.949 total time=   0.0s\n",
      "[CV 2/5] END metric=cosine, n_neighbors=7, weights=uniform;, score=0.951 total time=   0.0s\n",
      "[CV 3/5] END metric=cosine, n_neighbors=7, weights=uniform;, score=0.951 total time=   0.1s\n",
      "[CV 4/5] END metric=cosine, n_neighbors=7, weights=uniform;, score=0.944 total time=   0.0s\n",
      "[CV 5/5] END metric=cosine, n_neighbors=7, weights=uniform;, score=0.949 total time=   0.0s\n",
      "[CV 1/5] END metric=cosine, n_neighbors=7, weights=distance;, score=0.946 total time=   0.0s\n",
      "[CV 2/5] END metric=cosine, n_neighbors=7, weights=distance;, score=0.950 total time=   0.0s\n",
      "[CV 3/5] END metric=cosine, n_neighbors=7, weights=distance;, score=0.943 total time=   0.0s\n",
      "[CV 4/5] END metric=cosine, n_neighbors=7, weights=distance;, score=0.939 total time=   0.0s\n",
      "[CV 5/5] END metric=cosine, n_neighbors=7, weights=distance;, score=0.940 total time=   0.0s\n",
      "[CV 1/5] END metric=cosine, n_neighbors=9, weights=uniform;, score=0.949 total time=   0.0s\n",
      "[CV 2/5] END metric=cosine, n_neighbors=9, weights=uniform;, score=0.950 total time=   0.0s\n",
      "[CV 3/5] END metric=cosine, n_neighbors=9, weights=uniform;, score=0.949 total time=   0.0s\n",
      "[CV 4/5] END metric=cosine, n_neighbors=9, weights=uniform;, score=0.943 total time=   0.0s\n",
      "[CV 5/5] END metric=cosine, n_neighbors=9, weights=uniform;, score=0.953 total time=   0.0s\n",
      "[CV 1/5] END metric=cosine, n_neighbors=9, weights=distance;, score=0.949 total time=   0.0s\n",
      "[CV 2/5] END metric=cosine, n_neighbors=9, weights=distance;, score=0.950 total time=   0.0s\n",
      "[CV 3/5] END metric=cosine, n_neighbors=9, weights=distance;, score=0.946 total time=   0.0s\n",
      "[CV 4/5] END metric=cosine, n_neighbors=9, weights=distance;, score=0.940 total time=   0.0s\n",
      "[CV 5/5] END metric=cosine, n_neighbors=9, weights=distance;, score=0.946 total time=   0.0s\n",
      "[CV 1/5] END metric=cosine, n_neighbors=11, weights=uniform;, score=0.951 total time=   0.0s\n",
      "[CV 2/5] END metric=cosine, n_neighbors=11, weights=uniform;, score=0.950 total time=   0.0s\n",
      "[CV 3/5] END metric=cosine, n_neighbors=11, weights=uniform;, score=0.947 total time=   0.0s\n",
      "[CV 4/5] END metric=cosine, n_neighbors=11, weights=uniform;, score=0.950 total time=   0.0s\n",
      "[CV 5/5] END metric=cosine, n_neighbors=11, weights=uniform;, score=0.953 total time=   0.1s\n",
      "[CV 1/5] END metric=cosine, n_neighbors=11, weights=distance;, score=0.949 total time=   0.0s\n",
      "[CV 2/5] END metric=cosine, n_neighbors=11, weights=distance;, score=0.950 total time=   0.0s\n",
      "[CV 3/5] END metric=cosine, n_neighbors=11, weights=distance;, score=0.949 total time=   0.0s\n",
      "[CV 4/5] END metric=cosine, n_neighbors=11, weights=distance;, score=0.946 total time=   0.0s\n",
      "[CV 5/5] END metric=cosine, n_neighbors=11, weights=distance;, score=0.946 total time=   0.0s\n"
     ]
    },
    {
     "name": "stdout",
     "output_type": "stream",
     "text": [
      "[CV 1/5] END metric=cosine, n_neighbors=13, weights=uniform;, score=0.951 total time=   0.1s\n",
      "[CV 2/5] END metric=cosine, n_neighbors=13, weights=uniform;, score=0.951 total time=   0.1s\n",
      "[CV 3/5] END metric=cosine, n_neighbors=13, weights=uniform;, score=0.950 total time=   0.0s\n",
      "[CV 4/5] END metric=cosine, n_neighbors=13, weights=uniform;, score=0.951 total time=   0.0s\n",
      "[CV 5/5] END metric=cosine, n_neighbors=13, weights=uniform;, score=0.951 total time=   0.0s\n",
      "[CV 1/5] END metric=cosine, n_neighbors=13, weights=distance;, score=0.950 total time=   0.0s\n",
      "[CV 2/5] END metric=cosine, n_neighbors=13, weights=distance;, score=0.950 total time=   0.0s\n",
      "[CV 3/5] END metric=cosine, n_neighbors=13, weights=distance;, score=0.950 total time=   0.0s\n",
      "[CV 4/5] END metric=cosine, n_neighbors=13, weights=distance;, score=0.946 total time=   0.0s\n",
      "[CV 5/5] END metric=cosine, n_neighbors=13, weights=distance;, score=0.947 total time=   0.0s\n",
      "[CV 1/5] END metric=cosine, n_neighbors=15, weights=uniform;, score=0.951 total time=   0.1s\n",
      "[CV 2/5] END metric=cosine, n_neighbors=15, weights=uniform;, score=0.951 total time=   0.1s\n",
      "[CV 3/5] END metric=cosine, n_neighbors=15, weights=uniform;, score=0.950 total time=   0.1s\n",
      "[CV 4/5] END metric=cosine, n_neighbors=15, weights=uniform;, score=0.951 total time=   0.0s\n",
      "[CV 5/5] END metric=cosine, n_neighbors=15, weights=uniform;, score=0.951 total time=   0.1s\n",
      "[CV 1/5] END metric=cosine, n_neighbors=15, weights=distance;, score=0.951 total time=   0.0s\n",
      "[CV 2/5] END metric=cosine, n_neighbors=15, weights=distance;, score=0.950 total time=   0.0s\n",
      "[CV 3/5] END metric=cosine, n_neighbors=15, weights=distance;, score=0.950 total time=   0.0s\n",
      "[CV 4/5] END metric=cosine, n_neighbors=15, weights=distance;, score=0.946 total time=   0.0s\n",
      "[CV 5/5] END metric=cosine, n_neighbors=15, weights=distance;, score=0.950 total time=   0.0s\n",
      "[CV 1/5] END metric=cosine, n_neighbors=20, weights=uniform;, score=0.951 total time=   0.0s\n",
      "[CV 2/5] END metric=cosine, n_neighbors=20, weights=uniform;, score=0.951 total time=   0.0s\n",
      "[CV 3/5] END metric=cosine, n_neighbors=20, weights=uniform;, score=0.951 total time=   0.0s\n",
      "[CV 4/5] END metric=cosine, n_neighbors=20, weights=uniform;, score=0.951 total time=   0.0s\n",
      "[CV 5/5] END metric=cosine, n_neighbors=20, weights=uniform;, score=0.951 total time=   0.0s\n",
      "[CV 1/5] END metric=cosine, n_neighbors=20, weights=distance;, score=0.951 total time=   0.0s\n",
      "[CV 2/5] END metric=cosine, n_neighbors=20, weights=distance;, score=0.951 total time=   0.0s\n",
      "[CV 3/5] END metric=cosine, n_neighbors=20, weights=distance;, score=0.950 total time=   0.0s\n",
      "[CV 4/5] END metric=cosine, n_neighbors=20, weights=distance;, score=0.950 total time=   0.0s\n",
      "[CV 5/5] END metric=cosine, n_neighbors=20, weights=distance;, score=0.950 total time=   0.0s\n",
      "[CV 1/5] END metric=cosine, n_neighbors=30, weights=uniform;, score=0.951 total time=   0.1s\n",
      "[CV 2/5] END metric=cosine, n_neighbors=30, weights=uniform;, score=0.951 total time=   0.1s\n",
      "[CV 3/5] END metric=cosine, n_neighbors=30, weights=uniform;, score=0.951 total time=   0.0s\n",
      "[CV 4/5] END metric=cosine, n_neighbors=30, weights=uniform;, score=0.951 total time=   0.1s\n",
      "[CV 5/5] END metric=cosine, n_neighbors=30, weights=uniform;, score=0.951 total time=   0.0s\n",
      "[CV 1/5] END metric=cosine, n_neighbors=30, weights=distance;, score=0.951 total time=   0.0s\n",
      "[CV 2/5] END metric=cosine, n_neighbors=30, weights=distance;, score=0.951 total time=   0.0s\n",
      "[CV 3/5] END metric=cosine, n_neighbors=30, weights=distance;, score=0.950 total time=   0.0s\n",
      "[CV 4/5] END metric=cosine, n_neighbors=30, weights=distance;, score=0.950 total time=   0.0s\n",
      "[CV 5/5] END metric=cosine, n_neighbors=30, weights=distance;, score=0.950 total time=   0.0s\n",
      "[CV 1/5] END metric=cosine, n_neighbors=40, weights=uniform;, score=0.951 total time=   0.0s\n",
      "[CV 2/5] END metric=cosine, n_neighbors=40, weights=uniform;, score=0.951 total time=   0.0s\n",
      "[CV 3/5] END metric=cosine, n_neighbors=40, weights=uniform;, score=0.951 total time=   0.0s\n",
      "[CV 4/5] END metric=cosine, n_neighbors=40, weights=uniform;, score=0.951 total time=   0.0s\n",
      "[CV 5/5] END metric=cosine, n_neighbors=40, weights=uniform;, score=0.951 total time=   0.1s\n",
      "[CV 1/5] END metric=cosine, n_neighbors=40, weights=distance;, score=0.951 total time=   0.0s\n",
      "[CV 2/5] END metric=cosine, n_neighbors=40, weights=distance;, score=0.951 total time=   0.0s\n",
      "[CV 3/5] END metric=cosine, n_neighbors=40, weights=distance;, score=0.950 total time=   0.0s\n",
      "[CV 4/5] END metric=cosine, n_neighbors=40, weights=distance;, score=0.951 total time=   0.0s\n",
      "[CV 5/5] END metric=cosine, n_neighbors=40, weights=distance;, score=0.950 total time=   0.0s\n",
      "[CV 1/5] END metric=cosine, n_neighbors=50, weights=uniform;, score=0.951 total time=   0.1s\n",
      "[CV 2/5] END metric=cosine, n_neighbors=50, weights=uniform;, score=0.951 total time=   0.1s\n",
      "[CV 3/5] END metric=cosine, n_neighbors=50, weights=uniform;, score=0.951 total time=   0.1s\n",
      "[CV 4/5] END metric=cosine, n_neighbors=50, weights=uniform;, score=0.951 total time=   0.1s\n",
      "[CV 5/5] END metric=cosine, n_neighbors=50, weights=uniform;, score=0.951 total time=   0.1s\n",
      "[CV 1/5] END metric=cosine, n_neighbors=50, weights=distance;, score=0.951 total time=   0.0s\n",
      "[CV 2/5] END metric=cosine, n_neighbors=50, weights=distance;, score=0.951 total time=   0.0s\n",
      "[CV 3/5] END metric=cosine, n_neighbors=50, weights=distance;, score=0.951 total time=   0.0s\n",
      "[CV 4/5] END metric=cosine, n_neighbors=50, weights=distance;, score=0.951 total time=   0.0s\n",
      "[CV 5/5] END metric=cosine, n_neighbors=50, weights=distance;, score=0.950 total time=   0.0s\n",
      "[CV 1/5] END metric=euclidean, n_neighbors=1, weights=uniform;, score=0.922 total time=   0.0s\n",
      "[CV 2/5] END metric=euclidean, n_neighbors=1, weights=uniform;, score=0.920 total time=   0.0s\n",
      "[CV 3/5] END metric=euclidean, n_neighbors=1, weights=uniform;, score=0.913 total time=   0.0s\n",
      "[CV 4/5] END metric=euclidean, n_neighbors=1, weights=uniform;, score=0.910 total time=   0.0s\n",
      "[CV 5/5] END metric=euclidean, n_neighbors=1, weights=uniform;, score=0.911 total time=   0.0s\n",
      "[CV 1/5] END metric=euclidean, n_neighbors=1, weights=distance;, score=0.922 total time=   0.0s\n",
      "[CV 2/5] END metric=euclidean, n_neighbors=1, weights=distance;, score=0.920 total time=   0.0s\n",
      "[CV 3/5] END metric=euclidean, n_neighbors=1, weights=distance;, score=0.913 total time=   0.0s\n",
      "[CV 4/5] END metric=euclidean, n_neighbors=1, weights=distance;, score=0.910 total time=   0.0s\n",
      "[CV 5/5] END metric=euclidean, n_neighbors=1, weights=distance;, score=0.911 total time=   0.0s\n",
      "[CV 1/5] END metric=euclidean, n_neighbors=3, weights=uniform;, score=0.936 total time=   0.0s\n",
      "[CV 2/5] END metric=euclidean, n_neighbors=3, weights=uniform;, score=0.942 total time=   0.0s\n",
      "[CV 3/5] END metric=euclidean, n_neighbors=3, weights=uniform;, score=0.940 total time=   0.0s\n",
      "[CV 4/5] END metric=euclidean, n_neighbors=3, weights=uniform;, score=0.932 total time=   0.0s\n",
      "[CV 5/5] END metric=euclidean, n_neighbors=3, weights=uniform;, score=0.930 total time=   0.0s\n",
      "[CV 1/5] END metric=euclidean, n_neighbors=3, weights=distance;, score=0.934 total time=   0.0s\n",
      "[CV 2/5] END metric=euclidean, n_neighbors=3, weights=distance;, score=0.940 total time=   0.0s\n",
      "[CV 3/5] END metric=euclidean, n_neighbors=3, weights=distance;, score=0.939 total time=   0.0s\n",
      "[CV 4/5] END metric=euclidean, n_neighbors=3, weights=distance;, score=0.930 total time=   0.0s\n",
      "[CV 5/5] END metric=euclidean, n_neighbors=3, weights=distance;, score=0.929 total time=   0.0s\n",
      "[CV 1/5] END metric=euclidean, n_neighbors=5, weights=uniform;, score=0.943 total time=   0.0s\n",
      "[CV 2/5] END metric=euclidean, n_neighbors=5, weights=uniform;, score=0.944 total time=   0.0s\n",
      "[CV 3/5] END metric=euclidean, n_neighbors=5, weights=uniform;, score=0.949 total time=   0.0s\n",
      "[CV 4/5] END metric=euclidean, n_neighbors=5, weights=uniform;, score=0.936 total time=   0.0s\n",
      "[CV 5/5] END metric=euclidean, n_neighbors=5, weights=uniform;, score=0.941 total time=   0.0s\n",
      "[CV 1/5] END metric=euclidean, n_neighbors=5, weights=distance;, score=0.943 total time=   0.0s\n",
      "[CV 2/5] END metric=euclidean, n_neighbors=5, weights=distance;, score=0.944 total time=   0.0s\n",
      "[CV 3/5] END metric=euclidean, n_neighbors=5, weights=distance;, score=0.947 total time=   0.0s\n",
      "[CV 4/5] END metric=euclidean, n_neighbors=5, weights=distance;, score=0.936 total time=   0.0s\n",
      "[CV 5/5] END metric=euclidean, n_neighbors=5, weights=distance;, score=0.941 total time=   0.0s\n",
      "[CV 1/5] END metric=euclidean, n_neighbors=7, weights=uniform;, score=0.947 total time=   0.0s\n",
      "[CV 2/5] END metric=euclidean, n_neighbors=7, weights=uniform;, score=0.951 total time=   0.0s\n",
      "[CV 3/5] END metric=euclidean, n_neighbors=7, weights=uniform;, score=0.949 total time=   0.0s\n",
      "[CV 4/5] END metric=euclidean, n_neighbors=7, weights=uniform;, score=0.947 total time=   0.0s\n",
      "[CV 5/5] END metric=euclidean, n_neighbors=7, weights=uniform;, score=0.947 total time=   0.0s\n"
     ]
    },
    {
     "name": "stdout",
     "output_type": "stream",
     "text": [
      "[CV 1/5] END metric=euclidean, n_neighbors=7, weights=distance;, score=0.946 total time=   0.0s\n",
      "[CV 2/5] END metric=euclidean, n_neighbors=7, weights=distance;, score=0.951 total time=   0.0s\n",
      "[CV 3/5] END metric=euclidean, n_neighbors=7, weights=distance;, score=0.949 total time=   0.0s\n",
      "[CV 4/5] END metric=euclidean, n_neighbors=7, weights=distance;, score=0.940 total time=   0.0s\n",
      "[CV 5/5] END metric=euclidean, n_neighbors=7, weights=distance;, score=0.949 total time=   0.0s\n",
      "[CV 1/5] END metric=euclidean, n_neighbors=9, weights=uniform;, score=0.951 total time=   0.0s\n",
      "[CV 2/5] END metric=euclidean, n_neighbors=9, weights=uniform;, score=0.951 total time=   0.0s\n",
      "[CV 3/5] END metric=euclidean, n_neighbors=9, weights=uniform;, score=0.947 total time=   0.0s\n",
      "[CV 4/5] END metric=euclidean, n_neighbors=9, weights=uniform;, score=0.950 total time=   0.0s\n",
      "[CV 5/5] END metric=euclidean, n_neighbors=9, weights=uniform;, score=0.950 total time=   0.0s\n",
      "[CV 1/5] END metric=euclidean, n_neighbors=9, weights=distance;, score=0.951 total time=   0.0s\n",
      "[CV 2/5] END metric=euclidean, n_neighbors=9, weights=distance;, score=0.951 total time=   0.0s\n",
      "[CV 3/5] END metric=euclidean, n_neighbors=9, weights=distance;, score=0.947 total time=   0.0s\n",
      "[CV 4/5] END metric=euclidean, n_neighbors=9, weights=distance;, score=0.946 total time=   0.0s\n",
      "[CV 5/5] END metric=euclidean, n_neighbors=9, weights=distance;, score=0.951 total time=   0.0s\n",
      "[CV 1/5] END metric=euclidean, n_neighbors=11, weights=uniform;, score=0.951 total time=   0.0s\n",
      "[CV 2/5] END metric=euclidean, n_neighbors=11, weights=uniform;, score=0.950 total time=   0.0s\n",
      "[CV 3/5] END metric=euclidean, n_neighbors=11, weights=uniform;, score=0.950 total time=   0.0s\n",
      "[CV 4/5] END metric=euclidean, n_neighbors=11, weights=uniform;, score=0.950 total time=   0.0s\n",
      "[CV 5/5] END metric=euclidean, n_neighbors=11, weights=uniform;, score=0.951 total time=   0.0s\n",
      "[CV 1/5] END metric=euclidean, n_neighbors=11, weights=distance;, score=0.951 total time=   0.0s\n",
      "[CV 2/5] END metric=euclidean, n_neighbors=11, weights=distance;, score=0.950 total time=   0.0s\n",
      "[CV 3/5] END metric=euclidean, n_neighbors=11, weights=distance;, score=0.950 total time=   0.0s\n",
      "[CV 4/5] END metric=euclidean, n_neighbors=11, weights=distance;, score=0.947 total time=   0.0s\n",
      "[CV 5/5] END metric=euclidean, n_neighbors=11, weights=distance;, score=0.950 total time=   0.0s\n",
      "[CV 1/5] END metric=euclidean, n_neighbors=13, weights=uniform;, score=0.951 total time=   0.0s\n",
      "[CV 2/5] END metric=euclidean, n_neighbors=13, weights=uniform;, score=0.951 total time=   0.0s\n",
      "[CV 3/5] END metric=euclidean, n_neighbors=13, weights=uniform;, score=0.950 total time=   0.0s\n",
      "[CV 4/5] END metric=euclidean, n_neighbors=13, weights=uniform;, score=0.953 total time=   0.0s\n",
      "[CV 5/5] END metric=euclidean, n_neighbors=13, weights=uniform;, score=0.951 total time=   0.0s\n",
      "[CV 1/5] END metric=euclidean, n_neighbors=13, weights=distance;, score=0.951 total time=   0.0s\n",
      "[CV 2/5] END metric=euclidean, n_neighbors=13, weights=distance;, score=0.951 total time=   0.0s\n",
      "[CV 3/5] END metric=euclidean, n_neighbors=13, weights=distance;, score=0.950 total time=   0.0s\n",
      "[CV 4/5] END metric=euclidean, n_neighbors=13, weights=distance;, score=0.949 total time=   0.0s\n",
      "[CV 5/5] END metric=euclidean, n_neighbors=13, weights=distance;, score=0.951 total time=   0.0s\n",
      "[CV 1/5] END metric=euclidean, n_neighbors=15, weights=uniform;, score=0.951 total time=   0.0s\n",
      "[CV 2/5] END metric=euclidean, n_neighbors=15, weights=uniform;, score=0.951 total time=   0.0s\n",
      "[CV 3/5] END metric=euclidean, n_neighbors=15, weights=uniform;, score=0.951 total time=   0.0s\n",
      "[CV 4/5] END metric=euclidean, n_neighbors=15, weights=uniform;, score=0.951 total time=   0.0s\n",
      "[CV 5/5] END metric=euclidean, n_neighbors=15, weights=uniform;, score=0.951 total time=   0.0s\n",
      "[CV 1/5] END metric=euclidean, n_neighbors=15, weights=distance;, score=0.951 total time=   0.0s\n",
      "[CV 2/5] END metric=euclidean, n_neighbors=15, weights=distance;, score=0.951 total time=   0.0s\n",
      "[CV 3/5] END metric=euclidean, n_neighbors=15, weights=distance;, score=0.951 total time=   0.0s\n",
      "[CV 4/5] END metric=euclidean, n_neighbors=15, weights=distance;, score=0.951 total time=   0.0s\n",
      "[CV 5/5] END metric=euclidean, n_neighbors=15, weights=distance;, score=0.951 total time=   0.0s\n",
      "[CV 1/5] END metric=euclidean, n_neighbors=20, weights=uniform;, score=0.951 total time=   0.0s\n",
      "[CV 2/5] END metric=euclidean, n_neighbors=20, weights=uniform;, score=0.951 total time=   0.0s\n",
      "[CV 3/5] END metric=euclidean, n_neighbors=20, weights=uniform;, score=0.951 total time=   0.0s\n",
      "[CV 4/5] END metric=euclidean, n_neighbors=20, weights=uniform;, score=0.951 total time=   0.0s\n",
      "[CV 5/5] END metric=euclidean, n_neighbors=20, weights=uniform;, score=0.951 total time=   0.0s\n",
      "[CV 1/5] END metric=euclidean, n_neighbors=20, weights=distance;, score=0.951 total time=   0.0s\n",
      "[CV 2/5] END metric=euclidean, n_neighbors=20, weights=distance;, score=0.951 total time=   0.0s\n",
      "[CV 3/5] END metric=euclidean, n_neighbors=20, weights=distance;, score=0.951 total time=   0.0s\n",
      "[CV 4/5] END metric=euclidean, n_neighbors=20, weights=distance;, score=0.951 total time=   0.0s\n",
      "[CV 5/5] END metric=euclidean, n_neighbors=20, weights=distance;, score=0.951 total time=   0.0s\n",
      "[CV 1/5] END metric=euclidean, n_neighbors=30, weights=uniform;, score=0.951 total time=   0.0s\n",
      "[CV 2/5] END metric=euclidean, n_neighbors=30, weights=uniform;, score=0.951 total time=   0.0s\n",
      "[CV 3/5] END metric=euclidean, n_neighbors=30, weights=uniform;, score=0.951 total time=   0.0s\n",
      "[CV 4/5] END metric=euclidean, n_neighbors=30, weights=uniform;, score=0.951 total time=   0.0s\n",
      "[CV 5/5] END metric=euclidean, n_neighbors=30, weights=uniform;, score=0.951 total time=   0.0s\n",
      "[CV 1/5] END metric=euclidean, n_neighbors=30, weights=distance;, score=0.951 total time=   0.0s\n",
      "[CV 2/5] END metric=euclidean, n_neighbors=30, weights=distance;, score=0.951 total time=   0.0s\n",
      "[CV 3/5] END metric=euclidean, n_neighbors=30, weights=distance;, score=0.951 total time=   0.0s\n",
      "[CV 4/5] END metric=euclidean, n_neighbors=30, weights=distance;, score=0.951 total time=   0.0s\n",
      "[CV 5/5] END metric=euclidean, n_neighbors=30, weights=distance;, score=0.951 total time=   0.0s\n",
      "[CV 1/5] END metric=euclidean, n_neighbors=40, weights=uniform;, score=0.951 total time=   0.0s\n",
      "[CV 2/5] END metric=euclidean, n_neighbors=40, weights=uniform;, score=0.951 total time=   0.0s\n",
      "[CV 3/5] END metric=euclidean, n_neighbors=40, weights=uniform;, score=0.951 total time=   0.0s\n",
      "[CV 4/5] END metric=euclidean, n_neighbors=40, weights=uniform;, score=0.951 total time=   0.0s\n",
      "[CV 5/5] END metric=euclidean, n_neighbors=40, weights=uniform;, score=0.951 total time=   0.0s\n",
      "[CV 1/5] END metric=euclidean, n_neighbors=40, weights=distance;, score=0.951 total time=   0.0s\n",
      "[CV 2/5] END metric=euclidean, n_neighbors=40, weights=distance;, score=0.951 total time=   0.0s\n",
      "[CV 3/5] END metric=euclidean, n_neighbors=40, weights=distance;, score=0.951 total time=   0.0s\n",
      "[CV 4/5] END metric=euclidean, n_neighbors=40, weights=distance;, score=0.951 total time=   0.0s\n",
      "[CV 5/5] END metric=euclidean, n_neighbors=40, weights=distance;, score=0.951 total time=   0.0s\n",
      "[CV 1/5] END metric=euclidean, n_neighbors=50, weights=uniform;, score=0.951 total time=   0.0s\n",
      "[CV 2/5] END metric=euclidean, n_neighbors=50, weights=uniform;, score=0.951 total time=   0.0s\n",
      "[CV 3/5] END metric=euclidean, n_neighbors=50, weights=uniform;, score=0.951 total time=   0.0s\n",
      "[CV 4/5] END metric=euclidean, n_neighbors=50, weights=uniform;, score=0.951 total time=   0.0s\n",
      "[CV 5/5] END metric=euclidean, n_neighbors=50, weights=uniform;, score=0.951 total time=   0.0s\n",
      "[CV 1/5] END metric=euclidean, n_neighbors=50, weights=distance;, score=0.951 total time=   0.0s\n",
      "[CV 2/5] END metric=euclidean, n_neighbors=50, weights=distance;, score=0.951 total time=   0.0s\n",
      "[CV 3/5] END metric=euclidean, n_neighbors=50, weights=distance;, score=0.951 total time=   0.0s\n",
      "[CV 4/5] END metric=euclidean, n_neighbors=50, weights=distance;, score=0.951 total time=   0.0s\n",
      "[CV 5/5] END metric=euclidean, n_neighbors=50, weights=distance;, score=0.951 total time=   0.0s\n",
      "[CV 1/5] END metric=cityblock, n_neighbors=1, weights=uniform;, score=0.914 total time=   0.0s\n"
     ]
    },
    {
     "name": "stdout",
     "output_type": "stream",
     "text": [
      "[CV 2/5] END metric=cityblock, n_neighbors=1, weights=uniform;, score=0.917 total time=   0.0s\n",
      "[CV 3/5] END metric=cityblock, n_neighbors=1, weights=uniform;, score=0.903 total time=   0.0s\n",
      "[CV 4/5] END metric=cityblock, n_neighbors=1, weights=uniform;, score=0.912 total time=   0.0s\n",
      "[CV 5/5] END metric=cityblock, n_neighbors=1, weights=uniform;, score=0.906 total time=   0.0s\n",
      "[CV 1/5] END metric=cityblock, n_neighbors=1, weights=distance;, score=0.914 total time=   0.0s\n",
      "[CV 2/5] END metric=cityblock, n_neighbors=1, weights=distance;, score=0.917 total time=   0.0s\n",
      "[CV 3/5] END metric=cityblock, n_neighbors=1, weights=distance;, score=0.903 total time=   0.0s\n",
      "[CV 4/5] END metric=cityblock, n_neighbors=1, weights=distance;, score=0.912 total time=   0.0s\n",
      "[CV 5/5] END metric=cityblock, n_neighbors=1, weights=distance;, score=0.906 total time=   0.0s\n",
      "[CV 1/5] END metric=cityblock, n_neighbors=3, weights=uniform;, score=0.942 total time=   0.0s\n",
      "[CV 2/5] END metric=cityblock, n_neighbors=3, weights=uniform;, score=0.942 total time=   0.0s\n",
      "[CV 3/5] END metric=cityblock, n_neighbors=3, weights=uniform;, score=0.937 total time=   0.0s\n",
      "[CV 4/5] END metric=cityblock, n_neighbors=3, weights=uniform;, score=0.929 total time=   0.0s\n",
      "[CV 5/5] END metric=cityblock, n_neighbors=3, weights=uniform;, score=0.936 total time=   0.0s\n",
      "[CV 1/5] END metric=cityblock, n_neighbors=3, weights=distance;, score=0.939 total time=   0.0s\n",
      "[CV 2/5] END metric=cityblock, n_neighbors=3, weights=distance;, score=0.937 total time=   0.0s\n",
      "[CV 3/5] END metric=cityblock, n_neighbors=3, weights=distance;, score=0.932 total time=   0.0s\n",
      "[CV 4/5] END metric=cityblock, n_neighbors=3, weights=distance;, score=0.927 total time=   0.0s\n",
      "[CV 5/5] END metric=cityblock, n_neighbors=3, weights=distance;, score=0.936 total time=   0.0s\n",
      "[CV 1/5] END metric=cityblock, n_neighbors=5, weights=uniform;, score=0.946 total time=   0.0s\n",
      "[CV 2/5] END metric=cityblock, n_neighbors=5, weights=uniform;, score=0.944 total time=   0.0s\n",
      "[CV 3/5] END metric=cityblock, n_neighbors=5, weights=uniform;, score=0.946 total time=   0.0s\n",
      "[CV 4/5] END metric=cityblock, n_neighbors=5, weights=uniform;, score=0.937 total time=   0.0s\n",
      "[CV 5/5] END metric=cityblock, n_neighbors=5, weights=uniform;, score=0.944 total time=   0.0s\n",
      "[CV 1/5] END metric=cityblock, n_neighbors=5, weights=distance;, score=0.944 total time=   0.0s\n",
      "[CV 2/5] END metric=cityblock, n_neighbors=5, weights=distance;, score=0.944 total time=   0.0s\n",
      "[CV 3/5] END metric=cityblock, n_neighbors=5, weights=distance;, score=0.942 total time=   0.0s\n",
      "[CV 4/5] END metric=cityblock, n_neighbors=5, weights=distance;, score=0.937 total time=   0.0s\n",
      "[CV 5/5] END metric=cityblock, n_neighbors=5, weights=distance;, score=0.944 total time=   0.0s\n",
      "[CV 1/5] END metric=cityblock, n_neighbors=7, weights=uniform;, score=0.951 total time=   0.0s\n",
      "[CV 2/5] END metric=cityblock, n_neighbors=7, weights=uniform;, score=0.950 total time=   0.0s\n",
      "[CV 3/5] END metric=cityblock, n_neighbors=7, weights=uniform;, score=0.949 total time=   0.0s\n",
      "[CV 4/5] END metric=cityblock, n_neighbors=7, weights=uniform;, score=0.947 total time=   0.0s\n",
      "[CV 5/5] END metric=cityblock, n_neighbors=7, weights=uniform;, score=0.949 total time=   0.0s\n",
      "[CV 1/5] END metric=cityblock, n_neighbors=7, weights=distance;, score=0.949 total time=   0.0s\n",
      "[CV 2/5] END metric=cityblock, n_neighbors=7, weights=distance;, score=0.950 total time=   0.0s\n",
      "[CV 3/5] END metric=cityblock, n_neighbors=7, weights=distance;, score=0.949 total time=   0.0s\n",
      "[CV 4/5] END metric=cityblock, n_neighbors=7, weights=distance;, score=0.946 total time=   0.0s\n",
      "[CV 5/5] END metric=cityblock, n_neighbors=7, weights=distance;, score=0.947 total time=   0.0s\n",
      "[CV 1/5] END metric=cityblock, n_neighbors=9, weights=uniform;, score=0.951 total time=   0.0s\n",
      "[CV 2/5] END metric=cityblock, n_neighbors=9, weights=uniform;, score=0.951 total time=   0.0s\n",
      "[CV 3/5] END metric=cityblock, n_neighbors=9, weights=uniform;, score=0.949 total time=   0.0s\n",
      "[CV 4/5] END metric=cityblock, n_neighbors=9, weights=uniform;, score=0.949 total time=   0.0s\n",
      "[CV 5/5] END metric=cityblock, n_neighbors=9, weights=uniform;, score=0.949 total time=   0.0s\n",
      "[CV 1/5] END metric=cityblock, n_neighbors=9, weights=distance;, score=0.953 total time=   0.0s\n",
      "[CV 2/5] END metric=cityblock, n_neighbors=9, weights=distance;, score=0.951 total time=   0.0s\n",
      "[CV 3/5] END metric=cityblock, n_neighbors=9, weights=distance;, score=0.947 total time=   0.0s\n",
      "[CV 4/5] END metric=cityblock, n_neighbors=9, weights=distance;, score=0.946 total time=   0.0s\n",
      "[CV 5/5] END metric=cityblock, n_neighbors=9, weights=distance;, score=0.949 total time=   0.0s\n",
      "[CV 1/5] END metric=cityblock, n_neighbors=11, weights=uniform;, score=0.951 total time=   0.0s\n",
      "[CV 2/5] END metric=cityblock, n_neighbors=11, weights=uniform;, score=0.951 total time=   0.0s\n",
      "[CV 3/5] END metric=cityblock, n_neighbors=11, weights=uniform;, score=0.950 total time=   0.0s\n",
      "[CV 4/5] END metric=cityblock, n_neighbors=11, weights=uniform;, score=0.950 total time=   0.0s\n",
      "[CV 5/5] END metric=cityblock, n_neighbors=11, weights=uniform;, score=0.951 total time=   0.0s\n",
      "[CV 1/5] END metric=cityblock, n_neighbors=11, weights=distance;, score=0.951 total time=   0.0s\n",
      "[CV 2/5] END metric=cityblock, n_neighbors=11, weights=distance;, score=0.951 total time=   0.0s\n",
      "[CV 3/5] END metric=cityblock, n_neighbors=11, weights=distance;, score=0.949 total time=   0.0s\n",
      "[CV 4/5] END metric=cityblock, n_neighbors=11, weights=distance;, score=0.949 total time=   0.0s\n",
      "[CV 5/5] END metric=cityblock, n_neighbors=11, weights=distance;, score=0.950 total time=   0.0s\n",
      "[CV 1/5] END metric=cityblock, n_neighbors=13, weights=uniform;, score=0.951 total time=   0.0s\n",
      "[CV 2/5] END metric=cityblock, n_neighbors=13, weights=uniform;, score=0.951 total time=   0.0s\n",
      "[CV 3/5] END metric=cityblock, n_neighbors=13, weights=uniform;, score=0.951 total time=   0.0s\n",
      "[CV 4/5] END metric=cityblock, n_neighbors=13, weights=uniform;, score=0.951 total time=   0.0s\n",
      "[CV 5/5] END metric=cityblock, n_neighbors=13, weights=uniform;, score=0.951 total time=   0.0s\n",
      "[CV 1/5] END metric=cityblock, n_neighbors=13, weights=distance;, score=0.951 total time=   0.0s\n",
      "[CV 2/5] END metric=cityblock, n_neighbors=13, weights=distance;, score=0.951 total time=   0.0s\n",
      "[CV 3/5] END metric=cityblock, n_neighbors=13, weights=distance;, score=0.950 total time=   0.0s\n",
      "[CV 4/5] END metric=cityblock, n_neighbors=13, weights=distance;, score=0.950 total time=   0.0s\n",
      "[CV 5/5] END metric=cityblock, n_neighbors=13, weights=distance;, score=0.951 total time=   0.0s\n",
      "[CV 1/5] END metric=cityblock, n_neighbors=15, weights=uniform;, score=0.951 total time=   0.0s\n",
      "[CV 2/5] END metric=cityblock, n_neighbors=15, weights=uniform;, score=0.951 total time=   0.0s\n",
      "[CV 3/5] END metric=cityblock, n_neighbors=15, weights=uniform;, score=0.951 total time=   0.0s\n",
      "[CV 4/5] END metric=cityblock, n_neighbors=15, weights=uniform;, score=0.951 total time=   0.0s\n",
      "[CV 5/5] END metric=cityblock, n_neighbors=15, weights=uniform;, score=0.951 total time=   0.0s\n",
      "[CV 1/5] END metric=cityblock, n_neighbors=15, weights=distance;, score=0.951 total time=   0.0s\n",
      "[CV 2/5] END metric=cityblock, n_neighbors=15, weights=distance;, score=0.951 total time=   0.0s\n",
      "[CV 3/5] END metric=cityblock, n_neighbors=15, weights=distance;, score=0.951 total time=   0.0s\n",
      "[CV 4/5] END metric=cityblock, n_neighbors=15, weights=distance;, score=0.950 total time=   0.0s\n",
      "[CV 5/5] END metric=cityblock, n_neighbors=15, weights=distance;, score=0.951 total time=   0.0s\n",
      "[CV 1/5] END metric=cityblock, n_neighbors=20, weights=uniform;, score=0.951 total time=   0.0s\n",
      "[CV 2/5] END metric=cityblock, n_neighbors=20, weights=uniform;, score=0.951 total time=   0.0s\n",
      "[CV 3/5] END metric=cityblock, n_neighbors=20, weights=uniform;, score=0.951 total time=   0.0s\n",
      "[CV 4/5] END metric=cityblock, n_neighbors=20, weights=uniform;, score=0.951 total time=   0.0s\n",
      "[CV 5/5] END metric=cityblock, n_neighbors=20, weights=uniform;, score=0.951 total time=   0.0s\n",
      "[CV 1/5] END metric=cityblock, n_neighbors=20, weights=distance;, score=0.951 total time=   0.0s\n",
      "[CV 2/5] END metric=cityblock, n_neighbors=20, weights=distance;, score=0.951 total time=   0.0s\n",
      "[CV 3/5] END metric=cityblock, n_neighbors=20, weights=distance;, score=0.951 total time=   0.0s\n",
      "[CV 4/5] END metric=cityblock, n_neighbors=20, weights=distance;, score=0.951 total time=   0.0s\n",
      "[CV 5/5] END metric=cityblock, n_neighbors=20, weights=distance;, score=0.951 total time=   0.0s\n"
     ]
    },
    {
     "name": "stdout",
     "output_type": "stream",
     "text": [
      "[CV 1/5] END metric=cityblock, n_neighbors=30, weights=uniform;, score=0.951 total time=   0.1s\n",
      "[CV 2/5] END metric=cityblock, n_neighbors=30, weights=uniform;, score=0.951 total time=   0.1s\n",
      "[CV 3/5] END metric=cityblock, n_neighbors=30, weights=uniform;, score=0.951 total time=   0.1s\n",
      "[CV 4/5] END metric=cityblock, n_neighbors=30, weights=uniform;, score=0.951 total time=   0.1s\n",
      "[CV 5/5] END metric=cityblock, n_neighbors=30, weights=uniform;, score=0.951 total time=   0.0s\n",
      "[CV 1/5] END metric=cityblock, n_neighbors=30, weights=distance;, score=0.951 total time=   0.0s\n",
      "[CV 2/5] END metric=cityblock, n_neighbors=30, weights=distance;, score=0.951 total time=   0.0s\n",
      "[CV 3/5] END metric=cityblock, n_neighbors=30, weights=distance;, score=0.951 total time=   0.0s\n",
      "[CV 4/5] END metric=cityblock, n_neighbors=30, weights=distance;, score=0.951 total time=   0.0s\n",
      "[CV 5/5] END metric=cityblock, n_neighbors=30, weights=distance;, score=0.951 total time=   0.0s\n",
      "[CV 1/5] END metric=cityblock, n_neighbors=40, weights=uniform;, score=0.951 total time=   0.0s\n",
      "[CV 2/5] END metric=cityblock, n_neighbors=40, weights=uniform;, score=0.951 total time=   0.0s\n",
      "[CV 3/5] END metric=cityblock, n_neighbors=40, weights=uniform;, score=0.951 total time=   0.0s\n",
      "[CV 4/5] END metric=cityblock, n_neighbors=40, weights=uniform;, score=0.951 total time=   0.0s\n",
      "[CV 5/5] END metric=cityblock, n_neighbors=40, weights=uniform;, score=0.951 total time=   0.0s\n",
      "[CV 1/5] END metric=cityblock, n_neighbors=40, weights=distance;, score=0.951 total time=   0.0s\n",
      "[CV 2/5] END metric=cityblock, n_neighbors=40, weights=distance;, score=0.951 total time=   0.0s\n",
      "[CV 3/5] END metric=cityblock, n_neighbors=40, weights=distance;, score=0.951 total time=   0.0s\n",
      "[CV 4/5] END metric=cityblock, n_neighbors=40, weights=distance;, score=0.951 total time=   0.0s\n",
      "[CV 5/5] END metric=cityblock, n_neighbors=40, weights=distance;, score=0.951 total time=   0.0s\n",
      "[CV 1/5] END metric=cityblock, n_neighbors=50, weights=uniform;, score=0.951 total time=   0.0s\n",
      "[CV 2/5] END metric=cityblock, n_neighbors=50, weights=uniform;, score=0.951 total time=   0.0s\n",
      "[CV 3/5] END metric=cityblock, n_neighbors=50, weights=uniform;, score=0.951 total time=   0.0s\n",
      "[CV 4/5] END metric=cityblock, n_neighbors=50, weights=uniform;, score=0.951 total time=   0.0s\n",
      "[CV 5/5] END metric=cityblock, n_neighbors=50, weights=uniform;, score=0.951 total time=   0.0s\n",
      "[CV 1/5] END metric=cityblock, n_neighbors=50, weights=distance;, score=0.951 total time=   0.0s\n",
      "[CV 2/5] END metric=cityblock, n_neighbors=50, weights=distance;, score=0.951 total time=   0.0s\n",
      "[CV 3/5] END metric=cityblock, n_neighbors=50, weights=distance;, score=0.951 total time=   0.0s\n",
      "[CV 4/5] END metric=cityblock, n_neighbors=50, weights=distance;, score=0.951 total time=   0.0s\n",
      "[CV 5/5] END metric=cityblock, n_neighbors=50, weights=distance;, score=0.951 total time=   0.0s\n"
     ]
    },
    {
     "data": {
      "text/html": [
       "<style>#sk-container-id-31 {color: black;background-color: white;}#sk-container-id-31 pre{padding: 0;}#sk-container-id-31 div.sk-toggleable {background-color: white;}#sk-container-id-31 label.sk-toggleable__label {cursor: pointer;display: block;width: 100%;margin-bottom: 0;padding: 0.3em;box-sizing: border-box;text-align: center;}#sk-container-id-31 label.sk-toggleable__label-arrow:before {content: \"▸\";float: left;margin-right: 0.25em;color: #696969;}#sk-container-id-31 label.sk-toggleable__label-arrow:hover:before {color: black;}#sk-container-id-31 div.sk-estimator:hover label.sk-toggleable__label-arrow:before {color: black;}#sk-container-id-31 div.sk-toggleable__content {max-height: 0;max-width: 0;overflow: hidden;text-align: left;background-color: #f0f8ff;}#sk-container-id-31 div.sk-toggleable__content pre {margin: 0.2em;color: black;border-radius: 0.25em;background-color: #f0f8ff;}#sk-container-id-31 input.sk-toggleable__control:checked~div.sk-toggleable__content {max-height: 200px;max-width: 100%;overflow: auto;}#sk-container-id-31 input.sk-toggleable__control:checked~label.sk-toggleable__label-arrow:before {content: \"▾\";}#sk-container-id-31 div.sk-estimator input.sk-toggleable__control:checked~label.sk-toggleable__label {background-color: #d4ebff;}#sk-container-id-31 div.sk-label input.sk-toggleable__control:checked~label.sk-toggleable__label {background-color: #d4ebff;}#sk-container-id-31 input.sk-hidden--visually {border: 0;clip: rect(1px 1px 1px 1px);clip: rect(1px, 1px, 1px, 1px);height: 1px;margin: -1px;overflow: hidden;padding: 0;position: absolute;width: 1px;}#sk-container-id-31 div.sk-estimator {font-family: monospace;background-color: #f0f8ff;border: 1px dotted black;border-radius: 0.25em;box-sizing: border-box;margin-bottom: 0.5em;}#sk-container-id-31 div.sk-estimator:hover {background-color: #d4ebff;}#sk-container-id-31 div.sk-parallel-item::after {content: \"\";width: 100%;border-bottom: 1px solid gray;flex-grow: 1;}#sk-container-id-31 div.sk-label:hover label.sk-toggleable__label {background-color: #d4ebff;}#sk-container-id-31 div.sk-serial::before {content: \"\";position: absolute;border-left: 1px solid gray;box-sizing: border-box;top: 0;bottom: 0;left: 50%;z-index: 0;}#sk-container-id-31 div.sk-serial {display: flex;flex-direction: column;align-items: center;background-color: white;padding-right: 0.2em;padding-left: 0.2em;position: relative;}#sk-container-id-31 div.sk-item {position: relative;z-index: 1;}#sk-container-id-31 div.sk-parallel {display: flex;align-items: stretch;justify-content: center;background-color: white;position: relative;}#sk-container-id-31 div.sk-item::before, #sk-container-id-31 div.sk-parallel-item::before {content: \"\";position: absolute;border-left: 1px solid gray;box-sizing: border-box;top: 0;bottom: 0;left: 50%;z-index: -1;}#sk-container-id-31 div.sk-parallel-item {display: flex;flex-direction: column;z-index: 1;position: relative;background-color: white;}#sk-container-id-31 div.sk-parallel-item:first-child::after {align-self: flex-end;width: 50%;}#sk-container-id-31 div.sk-parallel-item:last-child::after {align-self: flex-start;width: 50%;}#sk-container-id-31 div.sk-parallel-item:only-child::after {width: 0;}#sk-container-id-31 div.sk-dashed-wrapped {border: 1px dashed gray;margin: 0 0.4em 0.5em 0.4em;box-sizing: border-box;padding-bottom: 0.4em;background-color: white;}#sk-container-id-31 div.sk-label label {font-family: monospace;font-weight: bold;display: inline-block;line-height: 1.2em;}#sk-container-id-31 div.sk-label-container {text-align: center;}#sk-container-id-31 div.sk-container {/* jupyter's `normalize.less` sets `[hidden] { display: none; }` but bootstrap.min.css set `[hidden] { display: none !important; }` so we also need the `!important` here to be able to override the default hidden behavior on the sphinx rendered scikit-learn.org. See: https://github.com/scikit-learn/scikit-learn/issues/21755 */display: inline-block !important;position: relative;}#sk-container-id-31 div.sk-text-repr-fallback {display: none;}</style><div id=\"sk-container-id-31\" class=\"sk-top-container\"><div class=\"sk-text-repr-fallback\"><pre>GridSearchCV(estimator=KNeighborsClassifier(),\n",
       "             param_grid={&#x27;metric&#x27;: [&#x27;minkowski&#x27;, &#x27;cosine&#x27;, &#x27;euclidean&#x27;,\n",
       "                                    &#x27;cityblock&#x27;],\n",
       "                         &#x27;n_neighbors&#x27;: [1, 3, 5, 7, 9, 11, 13, 15, 20, 30, 40,\n",
       "                                         50],\n",
       "                         &#x27;weights&#x27;: [&#x27;uniform&#x27;, &#x27;distance&#x27;]},\n",
       "             verbose=3)</pre><b>In a Jupyter environment, please rerun this cell to show the HTML representation or trust the notebook. <br />On GitHub, the HTML representation is unable to render, please try loading this page with nbviewer.org.</b></div><div class=\"sk-container\" hidden><div class=\"sk-item sk-dashed-wrapped\"><div class=\"sk-label-container\"><div class=\"sk-label sk-toggleable\"><input class=\"sk-toggleable__control sk-hidden--visually\" id=\"sk-estimator-id-55\" type=\"checkbox\" ><label for=\"sk-estimator-id-55\" class=\"sk-toggleable__label sk-toggleable__label-arrow\">GridSearchCV</label><div class=\"sk-toggleable__content\"><pre>GridSearchCV(estimator=KNeighborsClassifier(),\n",
       "             param_grid={&#x27;metric&#x27;: [&#x27;minkowski&#x27;, &#x27;cosine&#x27;, &#x27;euclidean&#x27;,\n",
       "                                    &#x27;cityblock&#x27;],\n",
       "                         &#x27;n_neighbors&#x27;: [1, 3, 5, 7, 9, 11, 13, 15, 20, 30, 40,\n",
       "                                         50],\n",
       "                         &#x27;weights&#x27;: [&#x27;uniform&#x27;, &#x27;distance&#x27;]},\n",
       "             verbose=3)</pre></div></div></div><div class=\"sk-parallel\"><div class=\"sk-parallel-item\"><div class=\"sk-item\"><div class=\"sk-label-container\"><div class=\"sk-label sk-toggleable\"><input class=\"sk-toggleable__control sk-hidden--visually\" id=\"sk-estimator-id-56\" type=\"checkbox\" ><label for=\"sk-estimator-id-56\" class=\"sk-toggleable__label sk-toggleable__label-arrow\">estimator: KNeighborsClassifier</label><div class=\"sk-toggleable__content\"><pre>KNeighborsClassifier()</pre></div></div></div><div class=\"sk-serial\"><div class=\"sk-item\"><div class=\"sk-estimator sk-toggleable\"><input class=\"sk-toggleable__control sk-hidden--visually\" id=\"sk-estimator-id-57\" type=\"checkbox\" ><label for=\"sk-estimator-id-57\" class=\"sk-toggleable__label sk-toggleable__label-arrow\">KNeighborsClassifier</label><div class=\"sk-toggleable__content\"><pre>KNeighborsClassifier()</pre></div></div></div></div></div></div></div></div></div></div>"
      ],
      "text/plain": [
       "GridSearchCV(estimator=KNeighborsClassifier(),\n",
       "             param_grid={'metric': ['minkowski', 'cosine', 'euclidean',\n",
       "                                    'cityblock'],\n",
       "                         'n_neighbors': [1, 3, 5, 7, 9, 11, 13, 15, 20, 30, 40,\n",
       "                                         50],\n",
       "                         'weights': ['uniform', 'distance']},\n",
       "             verbose=3)"
      ]
     },
     "execution_count": 193,
     "metadata": {},
     "output_type": "execute_result"
    }
   ],
   "source": [
    "model = GridSearchCV(KNeighborsClassifier(), param_grid, refit = True, verbose=3)\n",
    "model.fit(X_train, y_train)"
   ]
  },
  {
   "cell_type": "code",
   "execution_count": 194,
   "id": "15ba453d",
   "metadata": {},
   "outputs": [],
   "source": [
    "pred_grid = model.predict(X_test)"
   ]
  },
  {
   "cell_type": "code",
   "execution_count": 195,
   "id": "44ca6805",
   "metadata": {},
   "outputs": [
    {
     "name": "stdout",
     "output_type": "stream",
     "text": [
      "              precision    recall  f1-score   support\n",
      "\n",
      "           0       0.95      1.00      0.97      1431\n",
      "           1       0.00      0.00      0.00        72\n",
      "\n",
      "    accuracy                           0.95      1503\n",
      "   macro avg       0.48      0.50      0.49      1503\n",
      "weighted avg       0.91      0.95      0.93      1503\n",
      "\n"
     ]
    }
   ],
   "source": [
    "print(classification_report(y_test, pred_grid))"
   ]
  },
  {
   "cell_type": "code",
   "execution_count": 196,
   "id": "ce836d7a",
   "metadata": {},
   "outputs": [
    {
     "data": {
      "text/html": [
       "<style>#sk-container-id-32 {color: black;background-color: white;}#sk-container-id-32 pre{padding: 0;}#sk-container-id-32 div.sk-toggleable {background-color: white;}#sk-container-id-32 label.sk-toggleable__label {cursor: pointer;display: block;width: 100%;margin-bottom: 0;padding: 0.3em;box-sizing: border-box;text-align: center;}#sk-container-id-32 label.sk-toggleable__label-arrow:before {content: \"▸\";float: left;margin-right: 0.25em;color: #696969;}#sk-container-id-32 label.sk-toggleable__label-arrow:hover:before {color: black;}#sk-container-id-32 div.sk-estimator:hover label.sk-toggleable__label-arrow:before {color: black;}#sk-container-id-32 div.sk-toggleable__content {max-height: 0;max-width: 0;overflow: hidden;text-align: left;background-color: #f0f8ff;}#sk-container-id-32 div.sk-toggleable__content pre {margin: 0.2em;color: black;border-radius: 0.25em;background-color: #f0f8ff;}#sk-container-id-32 input.sk-toggleable__control:checked~div.sk-toggleable__content {max-height: 200px;max-width: 100%;overflow: auto;}#sk-container-id-32 input.sk-toggleable__control:checked~label.sk-toggleable__label-arrow:before {content: \"▾\";}#sk-container-id-32 div.sk-estimator input.sk-toggleable__control:checked~label.sk-toggleable__label {background-color: #d4ebff;}#sk-container-id-32 div.sk-label input.sk-toggleable__control:checked~label.sk-toggleable__label {background-color: #d4ebff;}#sk-container-id-32 input.sk-hidden--visually {border: 0;clip: rect(1px 1px 1px 1px);clip: rect(1px, 1px, 1px, 1px);height: 1px;margin: -1px;overflow: hidden;padding: 0;position: absolute;width: 1px;}#sk-container-id-32 div.sk-estimator {font-family: monospace;background-color: #f0f8ff;border: 1px dotted black;border-radius: 0.25em;box-sizing: border-box;margin-bottom: 0.5em;}#sk-container-id-32 div.sk-estimator:hover {background-color: #d4ebff;}#sk-container-id-32 div.sk-parallel-item::after {content: \"\";width: 100%;border-bottom: 1px solid gray;flex-grow: 1;}#sk-container-id-32 div.sk-label:hover label.sk-toggleable__label {background-color: #d4ebff;}#sk-container-id-32 div.sk-serial::before {content: \"\";position: absolute;border-left: 1px solid gray;box-sizing: border-box;top: 0;bottom: 0;left: 50%;z-index: 0;}#sk-container-id-32 div.sk-serial {display: flex;flex-direction: column;align-items: center;background-color: white;padding-right: 0.2em;padding-left: 0.2em;position: relative;}#sk-container-id-32 div.sk-item {position: relative;z-index: 1;}#sk-container-id-32 div.sk-parallel {display: flex;align-items: stretch;justify-content: center;background-color: white;position: relative;}#sk-container-id-32 div.sk-item::before, #sk-container-id-32 div.sk-parallel-item::before {content: \"\";position: absolute;border-left: 1px solid gray;box-sizing: border-box;top: 0;bottom: 0;left: 50%;z-index: -1;}#sk-container-id-32 div.sk-parallel-item {display: flex;flex-direction: column;z-index: 1;position: relative;background-color: white;}#sk-container-id-32 div.sk-parallel-item:first-child::after {align-self: flex-end;width: 50%;}#sk-container-id-32 div.sk-parallel-item:last-child::after {align-self: flex-start;width: 50%;}#sk-container-id-32 div.sk-parallel-item:only-child::after {width: 0;}#sk-container-id-32 div.sk-dashed-wrapped {border: 1px dashed gray;margin: 0 0.4em 0.5em 0.4em;box-sizing: border-box;padding-bottom: 0.4em;background-color: white;}#sk-container-id-32 div.sk-label label {font-family: monospace;font-weight: bold;display: inline-block;line-height: 1.2em;}#sk-container-id-32 div.sk-label-container {text-align: center;}#sk-container-id-32 div.sk-container {/* jupyter's `normalize.less` sets `[hidden] { display: none; }` but bootstrap.min.css set `[hidden] { display: none !important; }` so we also need the `!important` here to be able to override the default hidden behavior on the sphinx rendered scikit-learn.org. See: https://github.com/scikit-learn/scikit-learn/issues/21755 */display: inline-block !important;position: relative;}#sk-container-id-32 div.sk-text-repr-fallback {display: none;}</style><div id=\"sk-container-id-32\" class=\"sk-top-container\"><div class=\"sk-text-repr-fallback\"><pre>KNeighborsClassifier(n_neighbors=13)</pre><b>In a Jupyter environment, please rerun this cell to show the HTML representation or trust the notebook. <br />On GitHub, the HTML representation is unable to render, please try loading this page with nbviewer.org.</b></div><div class=\"sk-container\" hidden><div class=\"sk-item\"><div class=\"sk-estimator sk-toggleable\"><input class=\"sk-toggleable__control sk-hidden--visually\" id=\"sk-estimator-id-58\" type=\"checkbox\" checked><label for=\"sk-estimator-id-58\" class=\"sk-toggleable__label sk-toggleable__label-arrow\">KNeighborsClassifier</label><div class=\"sk-toggleable__content\"><pre>KNeighborsClassifier(n_neighbors=13)</pre></div></div></div></div></div>"
      ],
      "text/plain": [
       "KNeighborsClassifier(n_neighbors=13)"
      ]
     },
     "execution_count": 196,
     "metadata": {},
     "output_type": "execute_result"
    }
   ],
   "source": [
    "model.best_estimator_"
   ]
  },
  {
   "cell_type": "markdown",
   "id": "0cbe4bec",
   "metadata": {},
   "source": [
    "Выведем лучшие параметры:"
   ]
  },
  {
   "cell_type": "code",
   "execution_count": 197,
   "id": "3abb1f0b",
   "metadata": {},
   "outputs": [
    {
     "data": {
      "text/plain": [
       "(0.951484002445486,\n",
       " {'metric': 'minkowski', 'n_neighbors': 13, 'weights': 'uniform'})"
      ]
     },
     "execution_count": 197,
     "metadata": {},
     "output_type": "execute_result"
    }
   ],
   "source": [
    "model.best_score_, model.best_params_"
   ]
  },
  {
   "cell_type": "markdown",
   "id": "5372e596",
   "metadata": {},
   "source": [
    "Обучим модель изходя из полученных гиперпараметров."
   ]
  },
  {
   "cell_type": "code",
   "execution_count": 199,
   "id": "93ab9018",
   "metadata": {},
   "outputs": [],
   "source": [
    "model = KNeighborsClassifier(n_neighbors=13, weights=model.best_params_['weights'], metric=model.best_params_['metric'])"
   ]
  },
  {
   "cell_type": "code",
   "execution_count": 200,
   "id": "83dee060",
   "metadata": {},
   "outputs": [
    {
     "data": {
      "text/html": [
       "<style>#sk-container-id-33 {color: black;background-color: white;}#sk-container-id-33 pre{padding: 0;}#sk-container-id-33 div.sk-toggleable {background-color: white;}#sk-container-id-33 label.sk-toggleable__label {cursor: pointer;display: block;width: 100%;margin-bottom: 0;padding: 0.3em;box-sizing: border-box;text-align: center;}#sk-container-id-33 label.sk-toggleable__label-arrow:before {content: \"▸\";float: left;margin-right: 0.25em;color: #696969;}#sk-container-id-33 label.sk-toggleable__label-arrow:hover:before {color: black;}#sk-container-id-33 div.sk-estimator:hover label.sk-toggleable__label-arrow:before {color: black;}#sk-container-id-33 div.sk-toggleable__content {max-height: 0;max-width: 0;overflow: hidden;text-align: left;background-color: #f0f8ff;}#sk-container-id-33 div.sk-toggleable__content pre {margin: 0.2em;color: black;border-radius: 0.25em;background-color: #f0f8ff;}#sk-container-id-33 input.sk-toggleable__control:checked~div.sk-toggleable__content {max-height: 200px;max-width: 100%;overflow: auto;}#sk-container-id-33 input.sk-toggleable__control:checked~label.sk-toggleable__label-arrow:before {content: \"▾\";}#sk-container-id-33 div.sk-estimator input.sk-toggleable__control:checked~label.sk-toggleable__label {background-color: #d4ebff;}#sk-container-id-33 div.sk-label input.sk-toggleable__control:checked~label.sk-toggleable__label {background-color: #d4ebff;}#sk-container-id-33 input.sk-hidden--visually {border: 0;clip: rect(1px 1px 1px 1px);clip: rect(1px, 1px, 1px, 1px);height: 1px;margin: -1px;overflow: hidden;padding: 0;position: absolute;width: 1px;}#sk-container-id-33 div.sk-estimator {font-family: monospace;background-color: #f0f8ff;border: 1px dotted black;border-radius: 0.25em;box-sizing: border-box;margin-bottom: 0.5em;}#sk-container-id-33 div.sk-estimator:hover {background-color: #d4ebff;}#sk-container-id-33 div.sk-parallel-item::after {content: \"\";width: 100%;border-bottom: 1px solid gray;flex-grow: 1;}#sk-container-id-33 div.sk-label:hover label.sk-toggleable__label {background-color: #d4ebff;}#sk-container-id-33 div.sk-serial::before {content: \"\";position: absolute;border-left: 1px solid gray;box-sizing: border-box;top: 0;bottom: 0;left: 50%;z-index: 0;}#sk-container-id-33 div.sk-serial {display: flex;flex-direction: column;align-items: center;background-color: white;padding-right: 0.2em;padding-left: 0.2em;position: relative;}#sk-container-id-33 div.sk-item {position: relative;z-index: 1;}#sk-container-id-33 div.sk-parallel {display: flex;align-items: stretch;justify-content: center;background-color: white;position: relative;}#sk-container-id-33 div.sk-item::before, #sk-container-id-33 div.sk-parallel-item::before {content: \"\";position: absolute;border-left: 1px solid gray;box-sizing: border-box;top: 0;bottom: 0;left: 50%;z-index: -1;}#sk-container-id-33 div.sk-parallel-item {display: flex;flex-direction: column;z-index: 1;position: relative;background-color: white;}#sk-container-id-33 div.sk-parallel-item:first-child::after {align-self: flex-end;width: 50%;}#sk-container-id-33 div.sk-parallel-item:last-child::after {align-self: flex-start;width: 50%;}#sk-container-id-33 div.sk-parallel-item:only-child::after {width: 0;}#sk-container-id-33 div.sk-dashed-wrapped {border: 1px dashed gray;margin: 0 0.4em 0.5em 0.4em;box-sizing: border-box;padding-bottom: 0.4em;background-color: white;}#sk-container-id-33 div.sk-label label {font-family: monospace;font-weight: bold;display: inline-block;line-height: 1.2em;}#sk-container-id-33 div.sk-label-container {text-align: center;}#sk-container-id-33 div.sk-container {/* jupyter's `normalize.less` sets `[hidden] { display: none; }` but bootstrap.min.css set `[hidden] { display: none !important; }` so we also need the `!important` here to be able to override the default hidden behavior on the sphinx rendered scikit-learn.org. See: https://github.com/scikit-learn/scikit-learn/issues/21755 */display: inline-block !important;position: relative;}#sk-container-id-33 div.sk-text-repr-fallback {display: none;}</style><div id=\"sk-container-id-33\" class=\"sk-top-container\"><div class=\"sk-text-repr-fallback\"><pre>KNeighborsClassifier(n_neighbors=13)</pre><b>In a Jupyter environment, please rerun this cell to show the HTML representation or trust the notebook. <br />On GitHub, the HTML representation is unable to render, please try loading this page with nbviewer.org.</b></div><div class=\"sk-container\" hidden><div class=\"sk-item\"><div class=\"sk-estimator sk-toggleable\"><input class=\"sk-toggleable__control sk-hidden--visually\" id=\"sk-estimator-id-59\" type=\"checkbox\" checked><label for=\"sk-estimator-id-59\" class=\"sk-toggleable__label sk-toggleable__label-arrow\">KNeighborsClassifier</label><div class=\"sk-toggleable__content\"><pre>KNeighborsClassifier(n_neighbors=13)</pre></div></div></div></div></div>"
      ],
      "text/plain": [
       "KNeighborsClassifier(n_neighbors=13)"
      ]
     },
     "execution_count": 200,
     "metadata": {},
     "output_type": "execute_result"
    }
   ],
   "source": [
    "model.fit(X_train, y_train)"
   ]
  },
  {
   "cell_type": "code",
   "execution_count": 201,
   "id": "3727bf3d",
   "metadata": {},
   "outputs": [],
   "source": [
    "y_train_predict = model.predict(X_train)\n",
    "y_test_predict = model.predict(X_test)"
   ]
  },
  {
   "cell_type": "code",
   "execution_count": 202,
   "id": "acc155bc",
   "metadata": {},
   "outputs": [
    {
     "name": "stdout",
     "output_type": "stream",
     "text": [
      "[[3334    0]\n",
      " [ 169    1]]\n",
      "\n",
      "[[1429    2]\n",
      " [  72    0]]\n",
      "\n"
     ]
    }
   ],
   "source": [
    "print(confusion_matrix(y_train, y_train_predict), end=\"\\n\\n\")\n",
    "print(confusion_matrix(y_test, y_test_predict), end=\"\\n\\n\")"
   ]
  },
  {
   "cell_type": "markdown",
   "id": "f946558e",
   "metadata": {},
   "source": [
    "Результаты улучшились."
   ]
  },
  {
   "cell_type": "markdown",
   "id": "41d890fa",
   "metadata": {},
   "source": [
    "## RandomForest"
   ]
  },
  {
   "cell_type": "code",
   "execution_count": 217,
   "id": "0fc4564a",
   "metadata": {},
   "outputs": [],
   "source": [
    "from sklearn.ensemble import RandomForestClassifier\n",
    "from sklearn import metrics\n",
    "from sklearn.metrics import mean_squared_error, r2_score, roc_auc_score\n",
    "from math import sqrt\n",
    "\n",
    "model = RandomForestClassifier(n_estimators=300).fit(X_train, y_train) # по умолчанию n_estimators=100"
   ]
  },
  {
   "cell_type": "code",
   "execution_count": 218,
   "id": "fabb0310",
   "metadata": {},
   "outputs": [],
   "source": [
    "y_test_predict  = model.predict(X_test)"
   ]
  },
  {
   "cell_type": "code",
   "execution_count": 219,
   "id": "09b11ee9",
   "metadata": {
    "scrolled": true
   },
   "outputs": [],
   "source": [
    "y_pred = model.predict(X_test)\n",
    "y_pred_prob = model.predict_proba(X_test)[:, 1]"
   ]
  },
  {
   "cell_type": "code",
   "execution_count": 220,
   "id": "df9aa617",
   "metadata": {},
   "outputs": [
    {
     "name": "stdout",
     "output_type": "stream",
     "text": [
      "Test: Accuracy = 0.9507651363938789  ROC_AUC = 0.8066037735849056\n"
     ]
    }
   ],
   "source": [
    "print(\"Test:\",\n",
    "      \"Accuracy =\", metrics.accuracy_score(y_test, y_pred),  \n",
    "      \" ROC_AUC =\", metrics.roc_auc_score(y_test, y_pred_prob))"
   ]
  },
  {
   "cell_type": "code",
   "execution_count": 221,
   "id": "592517fd",
   "metadata": {},
   "outputs": [
    {
     "name": "stdout",
     "output_type": "stream",
     "text": [
      "Test:\n",
      " [[1429    2]\n",
      " [  72    0]]\n",
      "\n"
     ]
    }
   ],
   "source": [
    "print(\"Test:\\n\", confusion_matrix(y_test, y_test_predict), end=\"\\n\\n\")"
   ]
  },
  {
   "cell_type": "markdown",
   "id": "501eaab2",
   "metadata": {},
   "source": [
    "Виден схожий результат с улучшеным kNN"
   ]
  },
  {
   "cell_type": "markdown",
   "id": "8d4e01a9",
   "metadata": {},
   "source": [
    "## SVC"
   ]
  },
  {
   "cell_type": "code",
   "execution_count": 224,
   "id": "e17072a4",
   "metadata": {},
   "outputs": [
    {
     "name": "stdout",
     "output_type": "stream",
     "text": [
      "Test: Accuracy = 0.9520958083832335\n"
     ]
    }
   ],
   "source": [
    "from sklearn import ensemble\n",
    "from sklearn.svm import SVC\n",
    "\n",
    "svc = SVC(gamma=0.0001)\n",
    "svc.fit(X_train, y_train)\n",
    "\n",
    "y_test_predict = svc.predict(X_test)\n",
    "\n",
    "print(\"Test:\",\n",
    "      \"Accuracy =\", metrics.accuracy_score(y_test, y_test_predict))\n"
   ]
  },
  {
   "cell_type": "code",
   "execution_count": 225,
   "id": "36754b27",
   "metadata": {},
   "outputs": [
    {
     "name": "stdout",
     "output_type": "stream",
     "text": [
      "Test:\n",
      " [[1431    0]\n",
      " [  72    0]]\n",
      "\n"
     ]
    }
   ],
   "source": [
    "print(\"Test:\\n\", confusion_matrix(y_test, y_test_predict), end=\"\\n\\n\")"
   ]
  },
  {
   "cell_type": "markdown",
   "id": "dc37f517",
   "metadata": {},
   "source": [
    "Результат также схож с предыдущими."
   ]
  },
  {
   "cell_type": "markdown",
   "id": "924b3dfd",
   "metadata": {},
   "source": [
    "# Вывод"
   ]
  },
  {
   "cell_type": "markdown",
   "id": "ced73701",
   "metadata": {},
   "source": [
    "SVM, RandomForest и kNN с подоьранными гиперпараметрами оказались почти одинаковыми: довольно высокие значения accuracy и матрица ошибок показала очень схожие результаты.\n",
    "Было замечено, что иногда точность также может зависить от момента запуска, скорее всего это происходит из-за разделения выборки на обучающую и на тестовую. "
   ]
  }
 ],
 "metadata": {
  "kernelspec": {
   "display_name": "Python 3 (ipykernel)",
   "language": "python",
   "name": "python3"
  },
  "language_info": {
   "codemirror_mode": {
    "name": "ipython",
    "version": 3
   },
   "file_extension": ".py",
   "mimetype": "text/x-python",
   "name": "python",
   "nbconvert_exporter": "python",
   "pygments_lexer": "ipython3",
   "version": "3.8.5"
  }
 },
 "nbformat": 4,
 "nbformat_minor": 5
}
